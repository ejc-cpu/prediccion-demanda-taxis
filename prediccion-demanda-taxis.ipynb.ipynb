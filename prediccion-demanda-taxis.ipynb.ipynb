{
 "cells": [
  {
   "cell_type": "markdown",
   "metadata": {},
   "source": [
    "# Descripción del proyecto\n",
    "\n",
    "La compañía Sweet Lift Taxi ha recopilado datos históricos sobre pedidos de taxis en los aeropuertos. Para atraer a más conductores durante las horas pico, necesitamos predecir la cantidad de pedidos de taxis para la próxima hora. Construye un modelo para dicha predicción.\n",
    "\n",
    "La métrica RECM en el conjunto de prueba no debe ser superior a 48.\n",
    "\n",
    "## Instrucciones del proyecto.\n",
    "\n",
    "1. Descarga los datos y haz el remuestreo por una hora.\n",
    "2. Analiza los datos\n",
    "3. Entrena diferentes modelos con diferentes hiperparámetros. La muestra de prueba debe ser el 10% del conjunto de datos inicial.4. Prueba los datos usando la muestra de prueba y proporciona una conclusión.\n",
    "\n",
    "## Descripción de los datos\n",
    "\n",
    "Los datos se almacenan en el archivo `taxi.csv`. \t\n",
    "El número de pedidos está en la columna `num_orders`."
   ]
  },
  {
   "cell_type": "markdown",
   "metadata": {},
   "source": [
    "## Preparación"
   ]
  },
  {
   "cell_type": "code",
   "execution_count": 1,
   "metadata": {},
   "outputs": [],
   "source": [
    "# Descarga de librerias\n",
    "import pandas as pd\n",
    "import numpy as np\n",
    "import matplotlib.pyplot as plt\n",
    "import lightgbm as lgb\n",
    "import seaborn as sns\n",
    "from sklearn.model_selection import train_test_split\n",
    "from sklearn.tree import DecisionTreeRegressor\n",
    "from sklearn.ensemble import RandomForestRegressor, GradientBoostingRegressor\n",
    "from sklearn.linear_model import LinearRegression\n",
    "from sklearn.metrics import mean_squared_error\n",
    "from statsmodels.tsa.seasonal import seasonal_decompose"
   ]
  },
  {
   "cell_type": "code",
   "execution_count": 2,
   "metadata": {},
   "outputs": [],
   "source": [
    "# Carga de los datos y convertimiento de la columna de fecha\n",
    "data = pd.read_csv('/datasets/taxi.csv', index_col=[0], parse_dates=[0])\n",
    "data.sort_index(inplace=True)"
   ]
  },
  {
   "cell_type": "code",
   "execution_count": 3,
   "metadata": {},
   "outputs": [
    {
     "name": "stdout",
     "output_type": "stream",
     "text": [
      "True\n"
     ]
    }
   ],
   "source": [
    "# Nos aseguramos que el indice haya quedado cronologicamente\n",
    "print(data.index.is_monotonic)"
   ]
  },
  {
   "cell_type": "code",
   "execution_count": 4,
   "metadata": {},
   "outputs": [
    {
     "name": "stdout",
     "output_type": "stream",
     "text": [
      "<class 'pandas.core.frame.DataFrame'>\n",
      "DatetimeIndex: 26496 entries, 2018-03-01 00:00:00 to 2018-08-31 23:50:00\n",
      "Data columns (total 1 columns):\n",
      " #   Column      Non-Null Count  Dtype\n",
      "---  ------      --------------  -----\n",
      " 0   num_orders  26496 non-null  int64\n",
      "dtypes: int64(1)\n",
      "memory usage: 414.0 KB\n"
     ]
    }
   ],
   "source": [
    "# Ver informacion de los datos\n",
    "data.info()"
   ]
  },
  {
   "cell_type": "code",
   "execution_count": 5,
   "metadata": {},
   "outputs": [
    {
     "data": {
      "text/html": [
       "<div>\n",
       "<style scoped>\n",
       "    .dataframe tbody tr th:only-of-type {\n",
       "        vertical-align: middle;\n",
       "    }\n",
       "\n",
       "    .dataframe tbody tr th {\n",
       "        vertical-align: top;\n",
       "    }\n",
       "\n",
       "    .dataframe thead th {\n",
       "        text-align: right;\n",
       "    }\n",
       "</style>\n",
       "<table border=\"1\" class=\"dataframe\">\n",
       "  <thead>\n",
       "    <tr style=\"text-align: right;\">\n",
       "      <th></th>\n",
       "      <th>num_orders</th>\n",
       "    </tr>\n",
       "    <tr>\n",
       "      <th>datetime</th>\n",
       "      <th></th>\n",
       "    </tr>\n",
       "  </thead>\n",
       "  <tbody>\n",
       "    <tr>\n",
       "      <th>2018-03-01 00:00:00</th>\n",
       "      <td>9</td>\n",
       "    </tr>\n",
       "    <tr>\n",
       "      <th>2018-03-01 00:10:00</th>\n",
       "      <td>14</td>\n",
       "    </tr>\n",
       "    <tr>\n",
       "      <th>2018-03-01 00:20:00</th>\n",
       "      <td>28</td>\n",
       "    </tr>\n",
       "    <tr>\n",
       "      <th>2018-03-01 00:30:00</th>\n",
       "      <td>20</td>\n",
       "    </tr>\n",
       "    <tr>\n",
       "      <th>2018-03-01 00:40:00</th>\n",
       "      <td>32</td>\n",
       "    </tr>\n",
       "  </tbody>\n",
       "</table>\n",
       "</div>"
      ],
      "text/plain": [
       "                     num_orders\n",
       "datetime                       \n",
       "2018-03-01 00:00:00           9\n",
       "2018-03-01 00:10:00          14\n",
       "2018-03-01 00:20:00          28\n",
       "2018-03-01 00:30:00          20\n",
       "2018-03-01 00:40:00          32"
      ]
     },
     "execution_count": 5,
     "metadata": {},
     "output_type": "execute_result"
    }
   ],
   "source": [
    "data.head()"
   ]
  },
  {
   "cell_type": "code",
   "execution_count": 6,
   "metadata": {},
   "outputs": [
    {
     "data": {
      "text/html": [
       "<div>\n",
       "<style scoped>\n",
       "    .dataframe tbody tr th:only-of-type {\n",
       "        vertical-align: middle;\n",
       "    }\n",
       "\n",
       "    .dataframe tbody tr th {\n",
       "        vertical-align: top;\n",
       "    }\n",
       "\n",
       "    .dataframe thead th {\n",
       "        text-align: right;\n",
       "    }\n",
       "</style>\n",
       "<table border=\"1\" class=\"dataframe\">\n",
       "  <thead>\n",
       "    <tr style=\"text-align: right;\">\n",
       "      <th></th>\n",
       "      <th>num_orders</th>\n",
       "    </tr>\n",
       "    <tr>\n",
       "      <th>datetime</th>\n",
       "      <th></th>\n",
       "    </tr>\n",
       "  </thead>\n",
       "  <tbody>\n",
       "    <tr>\n",
       "      <th>2018-03-01 00:00:00</th>\n",
       "      <td>124</td>\n",
       "    </tr>\n",
       "    <tr>\n",
       "      <th>2018-03-01 01:00:00</th>\n",
       "      <td>85</td>\n",
       "    </tr>\n",
       "    <tr>\n",
       "      <th>2018-03-01 02:00:00</th>\n",
       "      <td>71</td>\n",
       "    </tr>\n",
       "    <tr>\n",
       "      <th>2018-03-01 03:00:00</th>\n",
       "      <td>66</td>\n",
       "    </tr>\n",
       "    <tr>\n",
       "      <th>2018-03-01 04:00:00</th>\n",
       "      <td>43</td>\n",
       "    </tr>\n",
       "  </tbody>\n",
       "</table>\n",
       "</div>"
      ],
      "text/plain": [
       "                     num_orders\n",
       "datetime                       \n",
       "2018-03-01 00:00:00         124\n",
       "2018-03-01 01:00:00          85\n",
       "2018-03-01 02:00:00          71\n",
       "2018-03-01 03:00:00          66\n",
       "2018-03-01 04:00:00          43"
      ]
     },
     "execution_count": 6,
     "metadata": {},
     "output_type": "execute_result"
    }
   ],
   "source": [
    "# Remuestreo de los datos por hora\n",
    "hourly_data = data.resample('H').sum()\n",
    "\n",
    "# Mostrar las primeras filas del remuestreo\n",
    "hourly_data.head()"
   ]
  },
  {
   "cell_type": "markdown",
   "metadata": {},
   "source": [
    "## Análisis"
   ]
  },
  {
   "cell_type": "code",
   "execution_count": 7,
   "metadata": {},
   "outputs": [
    {
     "data": {
      "image/png": "[encoded data removed]",
      "text/plain": [
       "<Figure size 1000x600 with 1 Axes>"
      ]
     },
     "metadata": {},
     "output_type": "display_data"
    }
   ],
   "source": [
    "# Visualizaciòn de los datos de pedidos por hora\n",
    "plt.figure(figsize=(10,6))\n",
    "plt.plot(hourly_data['num_orders'])\n",
    "plt.title('Pedidos de taxis por hora')\n",
    "plt.xlabel('Fecha')\n",
    "plt.ylabel('Número de pedidos')\n",
    "plt.show()"
   ]
  },
  {
   "cell_type": "markdown",
   "metadata": {},
   "source": [
    "A medida que avanzan los meses, se observa un aumento general en la cantidad de pedidos de taxis, lo que indica un crecimiento sostenido en la demanda de taxis, teniendo los picos mas altos entre los meses 8 y 9."
   ]
  },
  {
   "cell_type": "code",
   "execution_count": 8,
   "metadata": {},
   "outputs": [
    {
     "data": {
      "text/html": [
       "<div>\n",
       "<style scoped>\n",
       "    .dataframe tbody tr th:only-of-type {\n",
       "        vertical-align: middle;\n",
       "    }\n",
       "\n",
       "    .dataframe tbody tr th {\n",
       "        vertical-align: top;\n",
       "    }\n",
       "\n",
       "    .dataframe thead th {\n",
       "        text-align: right;\n",
       "    }\n",
       "</style>\n",
       "<table border=\"1\" class=\"dataframe\">\n",
       "  <thead>\n",
       "    <tr style=\"text-align: right;\">\n",
       "      <th></th>\n",
       "      <th>num_orders</th>\n",
       "    </tr>\n",
       "  </thead>\n",
       "  <tbody>\n",
       "    <tr>\n",
       "      <th>count</th>\n",
       "      <td>4416.000000</td>\n",
       "    </tr>\n",
       "    <tr>\n",
       "      <th>mean</th>\n",
       "      <td>84.422781</td>\n",
       "    </tr>\n",
       "    <tr>\n",
       "      <th>std</th>\n",
       "      <td>45.023853</td>\n",
       "    </tr>\n",
       "    <tr>\n",
       "      <th>min</th>\n",
       "      <td>0.000000</td>\n",
       "    </tr>\n",
       "    <tr>\n",
       "      <th>25%</th>\n",
       "      <td>54.000000</td>\n",
       "    </tr>\n",
       "    <tr>\n",
       "      <th>50%</th>\n",
       "      <td>78.000000</td>\n",
       "    </tr>\n",
       "    <tr>\n",
       "      <th>75%</th>\n",
       "      <td>107.000000</td>\n",
       "    </tr>\n",
       "    <tr>\n",
       "      <th>max</th>\n",
       "      <td>462.000000</td>\n",
       "    </tr>\n",
       "  </tbody>\n",
       "</table>\n",
       "</div>"
      ],
      "text/plain": [
       "        num_orders\n",
       "count  4416.000000\n",
       "mean     84.422781\n",
       "std      45.023853\n",
       "min       0.000000\n",
       "25%      54.000000\n",
       "50%      78.000000\n",
       "75%     107.000000\n",
       "max     462.000000"
      ]
     },
     "execution_count": 8,
     "metadata": {},
     "output_type": "execute_result"
    }
   ],
   "source": [
    "# Estadísticas descriptivas de los datos\n",
    "hourly_data.describe()"
   ]
  },
  {
   "cell_type": "code",
   "execution_count": 9,
   "metadata": {},
   "outputs": [
    {
     "data": {
      "image/png": "[encoded data removed]",
      "text/plain": [
       "<Figure size 640x480 with 1 Axes>"
      ]
     },
     "metadata": {},
     "output_type": "display_data"
    }
   ],
   "source": [
    "# Visualizaciòn de la distribucion de las datos\n",
    "sns.histplot(hourly_data['num_orders'], bins=50)\n",
    "plt.show()"
   ]
  },
  {
   "cell_type": "markdown",
   "metadata": {},
   "source": [
    "La mayoría de los datos se concentran entre los 0 y 150 pedidos por hora, con un pico alrededor de los 100 pedidos. Esto indica que, en la mayoría de las horas, la cantidad de pedidos de taxis se encuentra en ese rango. Hay algunos casos en los que el número de pedidos es significativamente mayor (más de 200, hasta 400), estos son casos menos comunes. Finalmente, la mayor demanda se encuentra entre los 50 y 150 pedidos."
   ]
  },
  {
   "cell_type": "code",
   "execution_count": 10,
   "metadata": {},
   "outputs": [
    {
     "data": {
      "image/png": "[encoded data removed]",
      "text/plain": [
       "<Figure size 1200x800 with 4 Axes>"
      ]
     },
     "metadata": {},
     "output_type": "display_data"
    },
    {
     "data": {
      "image/png": "[encoded data removed]",
      "text/plain": [
       "<Figure size 1200x400 with 2 Axes>"
      ]
     },
     "metadata": {},
     "output_type": "display_data"
    }
   ],
   "source": [
    "decomposition = seasonal_decompose(hourly_data['num_orders'], model='additive')\n",
    "\n",
    "# Plot the decomposed components\n",
    "plt.figure(figsize=(12, 8))\n",
    "plt.subplot(411)\n",
    "plt.plot(hourly_data['num_orders'], label='Original')\n",
    "plt.legend(loc='best')\n",
    "plt.subplot(412)\n",
    "plt.plot(decomposition.trend, label='Trend')\n",
    "plt.legend(loc='best')\n",
    "plt.subplot(413)\n",
    "plt.plot(decomposition.seasonal, label='Seasonality')\n",
    "plt.legend(loc='best')\n",
    "plt.subplot(414)\n",
    "plt.plot(decomposition.resid, label='Residuals')\n",
    "plt.legend(loc='best')\n",
    "plt.tight_layout()\n",
    "plt.show()\n",
    "\n",
    "# You can analyze the autocorrelation of the residuals using ACF and PACF plots\n",
    "from statsmodels.graphics.tsaplots import plot_acf, plot_pacf\n",
    "\n",
    "plt.figure(figsize=(12, 4))\n",
    "plt.subplot(121)\n",
    "plot_acf(decomposition.resid.dropna(), lags=30, ax=plt.gca())\n",
    "plt.subplot(122)\n",
    "plot_pacf(decomposition.resid.dropna(), lags=30, ax=plt.gca())\n",
    "plt.show()"
   ]
  },
  {
   "cell_type": "markdown",
   "metadata": {},
   "source": [
    "## Formación"
   ]
  },
  {
   "cell_type": "code",
   "execution_count": 11,
   "metadata": {},
   "outputs": [],
   "source": [
    "# Creaciòn de nuevas características\n",
    "def make_features(hourly_data, max_lag, rolling_mean_size):\n",
    "    hourly_data['year'] = hourly_data.index.year\n",
    "    hourly_data['month'] = hourly_data.index.month\n",
    "    hourly_data['day'] = hourly_data.index.day\n",
    "    hourly_data['dayofweek'] = hourly_data.index.dayofweek\n",
    "\n",
    "    for lag in range(1, max_lag + 1):\n",
    "        hourly_data['lag_{}'.format(lag)] = hourly_data['num_orders'].shift(lag)\n",
    "\n",
    "    hourly_data['rolling_mean'] = (\n",
    "        hourly_data['num_orders'].shift().rolling(rolling_mean_size).mean()\n",
    "    )\n",
    "\n",
    "\n",
    "\n",
    "make_features(data, 6, 10)\n",
    "\n",
    "data = data.dropna()\n",
    "\n",
    "train_valid, test = train_test_split(data, shuffle=False, test_size=0.1)\n",
    "train, valid = train_test_split(train_valid, shuffle=False, test_size=0.1)\n",
    "\n",
    "features_valid = valid.drop(['num_orders'], axis=1)\n",
    "target_valid = valid['num_orders']\n",
    "features_train = train.drop(['num_orders'], axis=1)\n",
    "target_train = train['num_orders']\n",
    "features_test = test.drop(['num_orders'], axis=1)\n",
    "target_test = test['num_orders']"
   ]
  },
  {
   "cell_type": "code",
   "execution_count": 12,
   "metadata": {},
   "outputs": [
    {
     "name": "stdout",
     "output_type": "stream",
     "text": [
      "(21453, 12)\n",
      "(2649, 12)\n",
      "(21453, 11)\n",
      "(21453,)\n",
      "(2649,)\n"
     ]
    }
   ],
   "source": [
    "print(train.shape)\n",
    "print(test.shape)\n",
    "\n",
    "print(features_train.shape)\n",
    "print(target_train.shape)\n",
    "print(target_test.shape)"
   ]
  },
  {
   "cell_type": "markdown",
   "metadata": {},
   "source": [
    "## Prueba"
   ]
  },
  {
   "cell_type": "code",
   "execution_count": 13,
   "metadata": {},
   "outputs": [
    {
     "name": "stdout",
     "output_type": "stream",
     "text": [
      "RECM Regresion Lineal: 8.461172475968533\n"
     ]
    }
   ],
   "source": [
    "# Entrenamiento modelo de Regresión Lineal\n",
    "model = LinearRegression()\n",
    "model.fit(features_train, target_train)\n",
    "\n",
    "# Predicciones\n",
    "target_pred_lr = model.predict(features_test)\n",
    "\n",
    "print('RECM Regresion Lineal:', mean_squared_error(target_test, target_pred_lr, squared=False))"
   ]
  },
  {
   "cell_type": "code",
   "execution_count": 14,
   "metadata": {},
   "outputs": [
    {
     "name": "stdout",
     "output_type": "stream",
     "text": [
      "RECM Árbol de Decisión: 10.894633245819126\n"
     ]
    }
   ],
   "source": [
    "# Entrenamiento modelo Árbol de Decisión\n",
    "tree_model = DecisionTreeRegressor(max_depth=10, random_state=12345)\n",
    "tree_model.fit(features_train, target_train)\n",
    "\n",
    "# Predicciones\n",
    "target_pred_tree = tree_model.predict(features_test)\n",
    "\n",
    "print('RECM Árbol de Decisión:', mean_squared_error(target_test, target_pred_tree, squared=False))"
   ]
  },
  {
   "cell_type": "code",
   "execution_count": 15,
   "metadata": {},
   "outputs": [
    {
     "name": "stdout",
     "output_type": "stream",
     "text": [
      "RECM Random Forest: 9.332678308590339\n"
     ]
    }
   ],
   "source": [
    "# Entrenamiento Random Forest\n",
    "forest_model = RandomForestRegressor(n_estimators=150, max_depth=6, random_state=12345)\n",
    "forest_model.fit(features_train, target_train)\n",
    "\n",
    "# Predicciones\n",
    "target_pred_forest = forest_model.predict(features_test)\n",
    "print('RECM Random Forest:', mean_squared_error(target_test, target_pred_forest, squared=False))"
   ]
  },
  {
   "cell_type": "code",
   "execution_count": 16,
   "metadata": {},
   "outputs": [
    {
     "name": "stdout",
     "output_type": "stream",
     "text": [
      "[LightGBM] [Info] Total Bins 619\n",
      "[LightGBM] [Info] Number of data points in the train set: 21453, number of used features: 10\n",
      "[LightGBM] [Info] Start training from score 12.459050\n",
      "RECM LightGBM: 9.371322398761416\n"
     ]
    }
   ],
   "source": [
    "# Entrenamiento del modelo de LightGBM\n",
    "train_data = lgb.Dataset(features_train, label=target_train)\n",
    "test_data = lgb.Dataset(features_test, label=target_test)\n",
    "params = {'objective': 'regression', 'metric': 'rmse', 'boosting_type': 'gbdt', 'learning_rate': 0.05, 'num_leaves': 31, 'force_col_wise':True}\n",
    "lgb_model = lgb.train(params, train_data, num_boost_round=100)\n",
    "\n",
    "# Predicciòn y evaluaciòn\n",
    "target_pred_lgb = lgb_model.predict(features_test)\n",
    "\n",
    "print('RECM LightGBM:', mean_squared_error(target_test, target_pred_lgb, squared=False))"
   ]
  },
  {
   "cell_type": "code",
   "execution_count": 17,
   "metadata": {},
   "outputs": [
    {
     "name": "stdout",
     "output_type": "stream",
     "text": [
      "RECM - Gradient Boosting: 9.574394841107274\n"
     ]
    }
   ],
   "source": [
    "gb_model = GradientBoostingRegressor(n_estimators=100, max_depth=5, random_state=12345)\n",
    "gb_model.fit(features_train, target_train)\n",
    "\n",
    "#predicciones \n",
    "target_pred_gb = gb_model.predict(features_test)\n",
    "\n",
    "print('RECM - Gradient Boosting:', mean_squared_error(target_test, target_pred_gb, squared=False))"
   ]
  },
  {
   "cell_type": "markdown",
   "metadata": {},
   "source": [
    "## Conclusiòn\n"
   ]
  },
  {
   "cell_type": "markdown",
   "metadata": {},
   "source": [
    "El RECM obtenido del modelo de Regresion Lineal es el mejor, 8.46. Ahora bien, por el tema de la variabilidad de los datos en el tiempo, sugerimos el Random Forest, que fue el de segundo mejor resultado, 9.33, y puede funcionar mejor en la medida que los datos muestren inconsistencia."
   ]
  },
  {
   "cell_type": "markdown",
   "metadata": {},
   "source": [
    "# Lista de revisión"
   ]
  },
  {
   "cell_type": "markdown",
   "metadata": {},
   "source": [
    "- [x]  \t\n",
    "Jupyter Notebook está abierto.\n",
    "- [ ]  El código no tiene errores\n",
    "- [ ]  Las celdas con el código han sido colocadas en el orden de ejecución.\n",
    "- [ ]  \t\n",
    "Los datos han sido descargados y preparados.\n",
    "- [ ]  Se ha realizado el paso 2: los datos han sido analizados\n",
    "- [ ]  Se entrenó el modelo y se seleccionaron los hiperparámetros\n",
    "- [ ]  Se han evaluado los modelos. Se expuso una conclusión\n",
    "- [ ] La *RECM* para el conjunto de prueba no es más de 48"
   ]
  }
 ],
 "metadata": {
  "ExecuteTimeLog": [
   {
    "duration": 2819,
    "start_time": "2024-10-19T01:52:33.744Z"
   },
   {
    "duration": 0,
    "start_time": "2024-10-19T01:52:36.570Z"
   },
   {
    "duration": 3,
    "start_time": "2024-10-19T01:53:03.386Z"
   },
   {
    "duration": 28,
    "start_time": "2024-10-19T01:53:06.858Z"
   },
   {
    "duration": 11,
    "start_time": "2024-10-19T01:53:46.045Z"
   },
   {
    "duration": 5,
    "start_time": "2024-10-19T01:55:33.344Z"
   },
   {
    "duration": 21,
    "start_time": "2024-10-19T01:56:58.582Z"
   },
   {
    "duration": 9,
    "start_time": "2024-10-19T01:57:05.345Z"
   },
   {
    "duration": 10,
    "start_time": "2024-10-19T01:57:37.334Z"
   },
   {
    "duration": 7,
    "start_time": "2024-10-19T02:04:58.435Z"
   },
   {
    "duration": 161,
    "start_time": "2024-10-19T15:28:04.249Z"
   },
   {
    "duration": 2612,
    "start_time": "2024-10-19T15:28:10.530Z"
   },
   {
    "duration": 32,
    "start_time": "2024-10-19T15:28:13.145Z"
   },
   {
    "duration": 10,
    "start_time": "2024-10-19T15:28:13.179Z"
   },
   {
    "duration": 9,
    "start_time": "2024-10-19T15:28:13.190Z"
   },
   {
    "duration": 968,
    "start_time": "2024-10-19T15:31:57.821Z"
   },
   {
    "duration": 21,
    "start_time": "2024-10-19T15:31:58.791Z"
   },
   {
    "duration": 7,
    "start_time": "2024-10-19T15:31:58.814Z"
   },
   {
    "duration": 7,
    "start_time": "2024-10-19T15:31:58.824Z"
   },
   {
    "duration": 2,
    "start_time": "2024-10-19T15:31:58.833Z"
   },
   {
    "duration": 358,
    "start_time": "2024-10-19T15:33:47.039Z"
   },
   {
    "duration": 18,
    "start_time": "2024-10-19T15:35:59.921Z"
   },
   {
    "duration": 954,
    "start_time": "2024-10-19T15:36:28.238Z"
   },
   {
    "duration": 21,
    "start_time": "2024-10-19T15:36:29.195Z"
   },
   {
    "duration": 17,
    "start_time": "2024-10-19T15:36:29.217Z"
   },
   {
    "duration": 21,
    "start_time": "2024-10-19T15:36:29.235Z"
   },
   {
    "duration": 330,
    "start_time": "2024-10-19T15:36:29.258Z"
   },
   {
    "duration": 6,
    "start_time": "2024-10-19T15:36:51.716Z"
   },
   {
    "duration": 175,
    "start_time": "2024-10-19T15:42:35.958Z"
   },
   {
    "duration": 6,
    "start_time": "2024-10-19T15:50:11.174Z"
   },
   {
    "duration": 9,
    "start_time": "2024-10-19T15:50:28.487Z"
   },
   {
    "duration": 66,
    "start_time": "2024-10-19T15:54:56.190Z"
   },
   {
    "duration": 20,
    "start_time": "2024-10-19T15:58:01.716Z"
   },
   {
    "duration": 147,
    "start_time": "2024-10-19T15:58:23.287Z"
   },
   {
    "duration": 6,
    "start_time": "2024-10-19T22:34:45.479Z"
   },
   {
    "duration": 154,
    "start_time": "2024-10-19T22:35:12.307Z"
   },
   {
    "duration": 2682,
    "start_time": "2024-10-19T22:35:21.769Z"
   },
   {
    "duration": 26,
    "start_time": "2024-10-19T22:35:24.453Z"
   },
   {
    "duration": 9,
    "start_time": "2024-10-19T22:35:24.480Z"
   },
   {
    "duration": 7,
    "start_time": "2024-10-19T22:35:24.492Z"
   },
   {
    "duration": 6,
    "start_time": "2024-10-19T22:35:24.500Z"
   },
   {
    "duration": 196,
    "start_time": "2024-10-19T22:35:24.507Z"
   },
   {
    "duration": 10,
    "start_time": "2024-10-19T22:35:24.704Z"
   },
   {
    "duration": 139,
    "start_time": "2024-10-19T22:35:24.717Z"
   },
   {
    "duration": 3,
    "start_time": "2024-10-19T22:35:24.857Z"
   },
   {
    "duration": 6,
    "start_time": "2024-10-19T22:35:24.870Z"
   },
   {
    "duration": 3,
    "start_time": "2024-10-19T22:35:39.117Z"
   },
   {
    "duration": 2,
    "start_time": "2024-10-19T22:35:57.618Z"
   },
   {
    "duration": 5,
    "start_time": "2024-10-19T22:36:02.061Z"
   },
   {
    "duration": 5,
    "start_time": "2024-10-19T22:45:18.812Z"
   },
   {
    "duration": 6,
    "start_time": "2024-10-19T22:45:21.016Z"
   },
   {
    "duration": 6,
    "start_time": "2024-10-19T23:02:23.573Z"
   },
   {
    "duration": 7,
    "start_time": "2024-10-19T23:22:04.652Z"
   },
   {
    "duration": 287,
    "start_time": "2024-10-19T23:29:32.130Z"
   },
   {
    "duration": 16,
    "start_time": "2024-10-19T23:30:10.125Z"
   },
   {
    "duration": 1055,
    "start_time": "2024-10-19T23:32:06.685Z"
   },
   {
    "duration": 20,
    "start_time": "2024-10-19T23:32:07.743Z"
   },
   {
    "duration": 12,
    "start_time": "2024-10-19T23:32:07.765Z"
   },
   {
    "duration": 8,
    "start_time": "2024-10-19T23:32:07.778Z"
   },
   {
    "duration": 7,
    "start_time": "2024-10-19T23:32:07.788Z"
   },
   {
    "duration": 215,
    "start_time": "2024-10-19T23:32:07.796Z"
   },
   {
    "duration": 10,
    "start_time": "2024-10-19T23:32:08.012Z"
   },
   {
    "duration": 144,
    "start_time": "2024-10-19T23:32:08.024Z"
   },
   {
    "duration": 5,
    "start_time": "2024-10-19T23:32:08.169Z"
   },
   {
    "duration": 7,
    "start_time": "2024-10-19T23:32:08.176Z"
   },
   {
    "duration": 5,
    "start_time": "2024-10-19T23:32:08.185Z"
   },
   {
    "duration": 7,
    "start_time": "2024-10-19T23:32:08.192Z"
   },
   {
    "duration": 7,
    "start_time": "2024-10-19T23:32:08.201Z"
   },
   {
    "duration": 151,
    "start_time": "2024-10-19T23:42:05.901Z"
   },
   {
    "duration": 153,
    "start_time": "2024-10-19T23:43:02.095Z"
   },
   {
    "duration": 2763,
    "start_time": "2024-10-22T00:42:26.348Z"
   },
   {
    "duration": 32,
    "start_time": "2024-10-22T00:42:29.113Z"
   },
   {
    "duration": 10,
    "start_time": "2024-10-22T00:42:29.147Z"
   },
   {
    "duration": 39,
    "start_time": "2024-10-22T00:42:29.158Z"
   },
   {
    "duration": 31,
    "start_time": "2024-10-22T00:42:29.199Z"
   },
   {
    "duration": 191,
    "start_time": "2024-10-22T00:42:29.232Z"
   },
   {
    "duration": 11,
    "start_time": "2024-10-22T00:42:29.425Z"
   },
   {
    "duration": 137,
    "start_time": "2024-10-22T00:42:29.438Z"
   },
   {
    "duration": 5,
    "start_time": "2024-10-22T00:42:29.577Z"
   },
   {
    "duration": 8,
    "start_time": "2024-10-22T00:42:29.584Z"
   },
   {
    "duration": 18,
    "start_time": "2024-10-22T00:42:29.593Z"
   },
   {
    "duration": 7,
    "start_time": "2024-10-22T00:42:29.612Z"
   },
   {
    "duration": 7,
    "start_time": "2024-10-22T00:42:29.621Z"
   },
   {
    "duration": 233,
    "start_time": "2024-10-22T00:42:29.631Z"
   },
   {
    "duration": 2,
    "start_time": "2024-10-22T00:42:29.867Z"
   },
   {
    "duration": 112,
    "start_time": "2024-10-22T00:45:34.879Z"
   },
   {
    "duration": 1083,
    "start_time": "2024-10-22T01:07:57.037Z"
   },
   {
    "duration": 24,
    "start_time": "2024-10-22T01:07:58.123Z"
   },
   {
    "duration": 9,
    "start_time": "2024-10-22T01:07:58.148Z"
   },
   {
    "duration": 7,
    "start_time": "2024-10-22T01:07:58.159Z"
   },
   {
    "duration": 8,
    "start_time": "2024-10-22T01:07:58.169Z"
   },
   {
    "duration": 199,
    "start_time": "2024-10-22T01:07:58.178Z"
   },
   {
    "duration": 10,
    "start_time": "2024-10-22T01:07:58.379Z"
   },
   {
    "duration": 144,
    "start_time": "2024-10-22T01:07:58.391Z"
   },
   {
    "duration": 6,
    "start_time": "2024-10-22T01:07:58.537Z"
   },
   {
    "duration": 6,
    "start_time": "2024-10-22T01:07:58.544Z"
   },
   {
    "duration": 6,
    "start_time": "2024-10-22T01:07:58.551Z"
   },
   {
    "duration": 8,
    "start_time": "2024-10-22T01:07:58.558Z"
   },
   {
    "duration": 8,
    "start_time": "2024-10-22T01:07:58.568Z"
   },
   {
    "duration": 156,
    "start_time": "2024-10-22T01:07:58.609Z"
   },
   {
    "duration": 271,
    "start_time": "2024-10-22T01:07:58.768Z"
   },
   {
    "duration": 1047,
    "start_time": "2024-10-22T01:09:08.173Z"
   },
   {
    "duration": 25,
    "start_time": "2024-10-22T01:09:09.222Z"
   },
   {
    "duration": 9,
    "start_time": "2024-10-22T01:09:09.249Z"
   },
   {
    "duration": 7,
    "start_time": "2024-10-22T01:09:09.260Z"
   },
   {
    "duration": 8,
    "start_time": "2024-10-22T01:09:09.270Z"
   },
   {
    "duration": 215,
    "start_time": "2024-10-22T01:09:09.279Z"
   },
   {
    "duration": 10,
    "start_time": "2024-10-22T01:09:09.496Z"
   },
   {
    "duration": 138,
    "start_time": "2024-10-22T01:09:09.508Z"
   },
   {
    "duration": 6,
    "start_time": "2024-10-22T01:09:09.648Z"
   },
   {
    "duration": 10,
    "start_time": "2024-10-22T01:09:09.655Z"
   },
   {
    "duration": 8,
    "start_time": "2024-10-22T01:09:09.667Z"
   },
   {
    "duration": 10,
    "start_time": "2024-10-22T01:09:09.677Z"
   },
   {
    "duration": 9,
    "start_time": "2024-10-22T01:09:09.708Z"
   },
   {
    "duration": 169,
    "start_time": "2024-10-22T01:09:09.719Z"
   },
   {
    "duration": 137,
    "start_time": "2024-10-22T01:09:09.891Z"
   },
   {
    "duration": 7,
    "start_time": "2024-10-22T01:09:57.414Z"
   },
   {
    "duration": 4,
    "start_time": "2024-10-22T01:11:09.453Z"
   },
   {
    "duration": 241,
    "start_time": "2024-10-22T01:11:26.213Z"
   },
   {
    "duration": 146,
    "start_time": "2024-10-22T01:11:45.963Z"
   },
   {
    "duration": 3,
    "start_time": "2024-10-22T01:26:08.093Z"
   },
   {
    "duration": 2639,
    "start_time": "2024-10-24T17:45:57.948Z"
   },
   {
    "duration": 74,
    "start_time": "2024-10-24T17:46:00.589Z"
   },
   {
    "duration": 5,
    "start_time": "2024-10-24T17:46:00.665Z"
   },
   {
    "duration": 9,
    "start_time": "2024-10-24T17:46:00.672Z"
   },
   {
    "duration": 7,
    "start_time": "2024-10-24T17:46:00.682Z"
   },
   {
    "duration": 15,
    "start_time": "2024-10-24T17:46:00.691Z"
   },
   {
    "duration": 178,
    "start_time": "2024-10-24T17:46:00.708Z"
   },
   {
    "duration": 9,
    "start_time": "2024-10-24T17:46:00.888Z"
   },
   {
    "duration": 142,
    "start_time": "2024-10-24T17:46:00.899Z"
   },
   {
    "duration": 370,
    "start_time": "2024-10-24T17:46:01.045Z"
   },
   {
    "duration": 0,
    "start_time": "2024-10-24T17:46:01.419Z"
   },
   {
    "duration": 0,
    "start_time": "2024-10-24T17:46:01.420Z"
   },
   {
    "duration": 0,
    "start_time": "2024-10-24T17:46:01.422Z"
   },
   {
    "duration": 0,
    "start_time": "2024-10-24T17:46:01.423Z"
   },
   {
    "duration": 0,
    "start_time": "2024-10-24T17:46:01.425Z"
   },
   {
    "duration": 0,
    "start_time": "2024-10-24T17:46:01.426Z"
   },
   {
    "duration": 0,
    "start_time": "2024-10-24T17:46:01.428Z"
   },
   {
    "duration": 15,
    "start_time": "2024-10-24T17:46:49.858Z"
   },
   {
    "duration": 18,
    "start_time": "2024-10-24T17:48:12.630Z"
   },
   {
    "duration": 17,
    "start_time": "2024-10-24T17:50:53.826Z"
   },
   {
    "duration": 17,
    "start_time": "2024-10-24T17:55:44.089Z"
   },
   {
    "duration": 23,
    "start_time": "2024-10-24T17:55:46.471Z"
   },
   {
    "duration": 15,
    "start_time": "2024-10-24T17:57:59.735Z"
   },
   {
    "duration": 23,
    "start_time": "2024-10-24T17:58:01.418Z"
   },
   {
    "duration": 1121,
    "start_time": "2024-10-24T18:02:15.787Z"
   },
   {
    "duration": 23,
    "start_time": "2024-10-24T18:03:27.533Z"
   },
   {
    "duration": 1119,
    "start_time": "2024-10-24T18:03:59.119Z"
   },
   {
    "duration": 215,
    "start_time": "2024-10-24T18:06:46.807Z"
   },
   {
    "duration": 7,
    "start_time": "2024-10-24T18:12:46.186Z"
   },
   {
    "duration": 25,
    "start_time": "2024-10-24T18:13:22.601Z"
   },
   {
    "duration": 1121,
    "start_time": "2024-10-24T18:14:13.055Z"
   },
   {
    "duration": 157,
    "start_time": "2024-10-24T18:14:53.362Z"
   },
   {
    "duration": 199,
    "start_time": "2024-10-24T18:15:25.127Z"
   },
   {
    "duration": 10,
    "start_time": "2024-10-24T18:16:25.894Z"
   },
   {
    "duration": 979,
    "start_time": "2024-10-24T18:16:39.062Z"
   },
   {
    "duration": 21,
    "start_time": "2024-10-24T18:16:40.042Z"
   },
   {
    "duration": 3,
    "start_time": "2024-10-24T18:16:40.065Z"
   },
   {
    "duration": 10,
    "start_time": "2024-10-24T18:16:40.069Z"
   },
   {
    "duration": 24,
    "start_time": "2024-10-24T18:16:40.082Z"
   },
   {
    "duration": 7,
    "start_time": "2024-10-24T18:16:40.107Z"
   },
   {
    "duration": 179,
    "start_time": "2024-10-24T18:16:40.115Z"
   },
   {
    "duration": 10,
    "start_time": "2024-10-24T18:16:40.295Z"
   },
   {
    "duration": 142,
    "start_time": "2024-10-24T18:16:40.307Z"
   },
   {
    "duration": 19,
    "start_time": "2024-10-24T18:16:40.451Z"
   },
   {
    "duration": 59,
    "start_time": "2024-10-24T18:16:40.472Z"
   },
   {
    "duration": 1195,
    "start_time": "2024-10-24T18:16:40.534Z"
   },
   {
    "duration": 194,
    "start_time": "2024-10-24T18:16:41.731Z"
   },
   {
    "duration": 10,
    "start_time": "2024-10-24T18:16:42.007Z"
   },
   {
    "duration": 8,
    "start_time": "2024-10-24T18:16:42.018Z"
   },
   {
    "duration": 81,
    "start_time": "2024-10-24T18:16:42.027Z"
   },
   {
    "duration": 1176,
    "start_time": "2024-10-24T18:16:42.110Z"
   },
   {
    "duration": 226,
    "start_time": "2024-10-24T18:16:43.288Z"
   },
   {
    "duration": 1031,
    "start_time": "2024-10-24T18:17:32.582Z"
   },
   {
    "duration": 21,
    "start_time": "2024-10-24T18:17:33.616Z"
   },
   {
    "duration": 3,
    "start_time": "2024-10-24T18:17:33.639Z"
   },
   {
    "duration": 8,
    "start_time": "2024-10-24T18:17:33.644Z"
   },
   {
    "duration": 8,
    "start_time": "2024-10-24T18:17:33.655Z"
   },
   {
    "duration": 6,
    "start_time": "2024-10-24T18:17:33.665Z"
   },
   {
    "duration": 230,
    "start_time": "2024-10-24T18:17:33.673Z"
   },
   {
    "duration": 11,
    "start_time": "2024-10-24T18:17:33.905Z"
   },
   {
    "duration": 160,
    "start_time": "2024-10-24T18:17:33.918Z"
   },
   {
    "duration": 16,
    "start_time": "2024-10-24T18:17:34.079Z"
   },
   {
    "duration": 8,
    "start_time": "2024-10-24T18:17:34.104Z"
   },
   {
    "duration": 26,
    "start_time": "2024-10-24T18:17:34.114Z"
   },
   {
    "duration": 1206,
    "start_time": "2024-10-24T18:17:34.142Z"
   },
   {
    "duration": 14268,
    "start_time": "2024-10-24T18:17:35.351Z"
   },
   {
    "duration": 8,
    "start_time": "2024-10-24T18:30:18.304Z"
   },
   {
    "duration": 323,
    "start_time": "2024-10-24T18:31:40.664Z"
   },
   {
    "duration": 7,
    "start_time": "2024-10-24T18:32:12.265Z"
   },
   {
    "duration": 2632,
    "start_time": "2024-10-25T01:09:38.384Z"
   },
   {
    "duration": 37,
    "start_time": "2024-10-25T01:09:41.018Z"
   },
   {
    "duration": 4,
    "start_time": "2024-10-25T01:09:41.056Z"
   },
   {
    "duration": 7,
    "start_time": "2024-10-25T01:09:41.062Z"
   },
   {
    "duration": 7,
    "start_time": "2024-10-25T01:09:41.072Z"
   },
   {
    "duration": 6,
    "start_time": "2024-10-25T01:09:41.080Z"
   },
   {
    "duration": 206,
    "start_time": "2024-10-25T01:09:41.088Z"
   },
   {
    "duration": 9,
    "start_time": "2024-10-25T01:09:41.296Z"
   },
   {
    "duration": 142,
    "start_time": "2024-10-25T01:09:41.307Z"
   },
   {
    "duration": 73,
    "start_time": "2024-10-25T01:09:41.451Z"
   },
   {
    "duration": 7,
    "start_time": "2024-10-25T01:09:41.526Z"
   },
   {
    "duration": 71,
    "start_time": "2024-10-25T01:09:41.535Z"
   },
   {
    "duration": 1197,
    "start_time": "2024-10-25T01:09:41.608Z"
   },
   {
    "duration": 303,
    "start_time": "2024-10-25T01:09:42.809Z"
   },
   {
    "duration": 1018,
    "start_time": "2024-10-25T01:36:14.812Z"
   },
   {
    "duration": 28,
    "start_time": "2024-10-25T01:36:15.833Z"
   },
   {
    "duration": 3,
    "start_time": "2024-10-25T01:36:15.863Z"
   },
   {
    "duration": 9,
    "start_time": "2024-10-25T01:36:15.869Z"
   },
   {
    "duration": 26,
    "start_time": "2024-10-25T01:36:15.880Z"
   },
   {
    "duration": 7,
    "start_time": "2024-10-25T01:36:15.907Z"
   },
   {
    "duration": 181,
    "start_time": "2024-10-25T01:36:15.916Z"
   },
   {
    "duration": 10,
    "start_time": "2024-10-25T01:36:16.099Z"
   },
   {
    "duration": 167,
    "start_time": "2024-10-25T01:36:16.111Z"
   },
   {
    "duration": 14,
    "start_time": "2024-10-25T01:36:16.281Z"
   },
   {
    "duration": 16,
    "start_time": "2024-10-25T01:36:16.306Z"
   },
   {
    "duration": 85,
    "start_time": "2024-10-25T01:36:16.324Z"
   },
   {
    "duration": 1146,
    "start_time": "2024-10-25T01:36:16.411Z"
   },
   {
    "duration": 38463,
    "start_time": "2024-10-25T01:36:17.559Z"
   },
   {
    "duration": 2779,
    "start_time": "2024-10-25T23:21:19.293Z"
   },
   {
    "duration": 31,
    "start_time": "2024-10-25T23:21:22.074Z"
   },
   {
    "duration": 3,
    "start_time": "2024-10-25T23:21:22.107Z"
   },
   {
    "duration": 8,
    "start_time": "2024-10-25T23:21:22.112Z"
   },
   {
    "duration": 9,
    "start_time": "2024-10-25T23:21:22.130Z"
   },
   {
    "duration": 6,
    "start_time": "2024-10-25T23:21:22.140Z"
   },
   {
    "duration": 260,
    "start_time": "2024-10-25T23:21:22.148Z"
   },
   {
    "duration": 10,
    "start_time": "2024-10-25T23:21:22.409Z"
   },
   {
    "duration": 136,
    "start_time": "2024-10-25T23:21:22.421Z"
   },
   {
    "duration": 251,
    "start_time": "2024-10-25T23:21:22.559Z"
   },
   {
    "duration": 0,
    "start_time": "2024-10-25T23:21:22.812Z"
   },
   {
    "duration": 0,
    "start_time": "2024-10-25T23:21:22.813Z"
   },
   {
    "duration": 0,
    "start_time": "2024-10-25T23:21:22.814Z"
   },
   {
    "duration": 0,
    "start_time": "2024-10-25T23:21:22.815Z"
   },
   {
    "duration": 1,
    "start_time": "2024-10-25T23:21:22.816Z"
   },
   {
    "duration": 22,
    "start_time": "2024-10-25T23:22:33.147Z"
   },
   {
    "duration": 981,
    "start_time": "2024-10-25T23:23:20.488Z"
   },
   {
    "duration": 94,
    "start_time": "2024-10-25T23:25:02.411Z"
   },
   {
    "duration": 121,
    "start_time": "2024-10-25T23:25:19.067Z"
   },
   {
    "duration": 21,
    "start_time": "2024-10-25T23:25:57.772Z"
   },
   {
    "duration": 284,
    "start_time": "2024-10-25T23:26:25.251Z"
   },
   {
    "duration": 1029,
    "start_time": "2024-10-25T23:27:25.813Z"
   },
   {
    "duration": 21,
    "start_time": "2024-10-25T23:27:26.844Z"
   },
   {
    "duration": 3,
    "start_time": "2024-10-25T23:27:26.866Z"
   },
   {
    "duration": 9,
    "start_time": "2024-10-25T23:27:26.871Z"
   },
   {
    "duration": 7,
    "start_time": "2024-10-25T23:27:26.882Z"
   },
   {
    "duration": 7,
    "start_time": "2024-10-25T23:27:26.891Z"
   },
   {
    "duration": 204,
    "start_time": "2024-10-25T23:27:26.900Z"
   },
   {
    "duration": 10,
    "start_time": "2024-10-25T23:27:27.106Z"
   },
   {
    "duration": 138,
    "start_time": "2024-10-25T23:27:27.117Z"
   },
   {
    "duration": 955,
    "start_time": "2024-10-25T23:27:27.257Z"
   },
   {
    "duration": 134,
    "start_time": "2024-10-25T23:27:28.214Z"
   },
   {
    "duration": 368,
    "start_time": "2024-10-25T23:27:28.350Z"
   },
   {
    "duration": 23,
    "start_time": "2024-10-25T23:27:28.720Z"
   },
   {
    "duration": 10,
    "start_time": "2024-10-25T23:27:28.745Z"
   },
   {
    "duration": 79,
    "start_time": "2024-10-25T23:27:28.756Z"
   },
   {
    "duration": 1179,
    "start_time": "2024-10-25T23:27:28.836Z"
   },
   {
    "duration": 232,
    "start_time": "2024-10-25T23:27:30.016Z"
   },
   {
    "duration": 348,
    "start_time": "2024-10-25T23:29:49.758Z"
   },
   {
    "duration": 2890,
    "start_time": "2024-10-26T16:35:36.105Z"
   },
   {
    "duration": 34,
    "start_time": "2024-10-26T16:35:38.998Z"
   },
   {
    "duration": 4,
    "start_time": "2024-10-26T16:35:39.036Z"
   },
   {
    "duration": 8,
    "start_time": "2024-10-26T16:35:39.043Z"
   },
   {
    "duration": 8,
    "start_time": "2024-10-26T16:35:39.053Z"
   },
   {
    "duration": 5,
    "start_time": "2024-10-26T16:35:39.064Z"
   },
   {
    "duration": 194,
    "start_time": "2024-10-26T16:35:39.071Z"
   },
   {
    "duration": 10,
    "start_time": "2024-10-26T16:35:39.268Z"
   },
   {
    "duration": 145,
    "start_time": "2024-10-26T16:35:39.280Z"
   },
   {
    "duration": 961,
    "start_time": "2024-10-26T16:35:39.427Z"
   },
   {
    "duration": 144,
    "start_time": "2024-10-26T16:35:40.391Z"
   },
   {
    "duration": 318,
    "start_time": "2024-10-26T16:35:40.537Z"
   },
   {
    "duration": 15,
    "start_time": "2024-10-26T16:35:40.859Z"
   },
   {
    "duration": 7,
    "start_time": "2024-10-26T16:35:40.875Z"
   },
   {
    "duration": 49,
    "start_time": "2024-10-26T16:35:40.884Z"
   },
   {
    "duration": 1203,
    "start_time": "2024-10-26T16:35:40.936Z"
   },
   {
    "duration": 272,
    "start_time": "2024-10-26T16:35:42.141Z"
   },
   {
    "duration": 356,
    "start_time": "2024-10-26T16:35:42.414Z"
   },
   {
    "duration": 0,
    "start_time": "2024-10-26T16:35:42.772Z"
   },
   {
    "duration": 1031,
    "start_time": "2024-10-26T16:36:28.003Z"
   },
   {
    "duration": 22,
    "start_time": "2024-10-26T16:36:29.036Z"
   },
   {
    "duration": 4,
    "start_time": "2024-10-26T16:36:29.059Z"
   },
   {
    "duration": 8,
    "start_time": "2024-10-26T16:36:29.065Z"
   },
   {
    "duration": 8,
    "start_time": "2024-10-26T16:36:29.076Z"
   },
   {
    "duration": 28,
    "start_time": "2024-10-26T16:36:29.086Z"
   },
   {
    "duration": 187,
    "start_time": "2024-10-26T16:36:29.115Z"
   },
   {
    "duration": 11,
    "start_time": "2024-10-26T16:36:29.303Z"
   },
   {
    "duration": 155,
    "start_time": "2024-10-26T16:36:29.316Z"
   },
   {
    "duration": 988,
    "start_time": "2024-10-26T16:36:29.474Z"
   },
   {
    "duration": 131,
    "start_time": "2024-10-26T16:36:30.464Z"
   },
   {
    "duration": 354,
    "start_time": "2024-10-26T16:36:30.597Z"
   },
   {
    "duration": 18,
    "start_time": "2024-10-26T16:36:30.954Z"
   },
   {
    "duration": 34,
    "start_time": "2024-10-26T16:36:30.976Z"
   },
   {
    "duration": 97,
    "start_time": "2024-10-26T16:36:31.013Z"
   },
   {
    "duration": 1135,
    "start_time": "2024-10-26T16:36:31.111Z"
   },
   {
    "duration": 269,
    "start_time": "2024-10-26T16:36:32.248Z"
   },
   {
    "duration": 386,
    "start_time": "2024-10-26T16:36:32.519Z"
   },
   {
    "duration": 943,
    "start_time": "2024-10-26T16:44:51.284Z"
   },
   {
    "duration": 48,
    "start_time": "2024-10-26T16:46:38.432Z"
   },
   {
    "duration": 62435,
    "start_time": "2024-10-26T16:49:53.575Z"
   },
   {
    "duration": 997,
    "start_time": "2024-10-26T16:54:59.121Z"
   },
   {
    "duration": 19,
    "start_time": "2024-10-26T16:59:08.421Z"
   },
   {
    "duration": 5,
    "start_time": "2024-10-26T17:00:20.539Z"
   },
   {
    "duration": 9,
    "start_time": "2024-10-26T17:01:37.417Z"
   },
   {
    "duration": 48,
    "start_time": "2024-10-26T17:02:15.136Z"
   },
   {
    "duration": 1061,
    "start_time": "2024-10-26T17:06:03.359Z"
   },
   {
    "duration": 1171,
    "start_time": "2024-10-26T17:08:55.343Z"
   },
   {
    "duration": 1421,
    "start_time": "2024-10-26T17:10:40.920Z"
   },
   {
    "duration": 955,
    "start_time": "2024-10-26T17:11:08.267Z"
   },
   {
    "duration": 158,
    "start_time": "2024-10-26T18:13:34.901Z"
   },
   {
    "duration": 2753,
    "start_time": "2024-10-26T18:13:52.944Z"
   },
   {
    "duration": 26,
    "start_time": "2024-10-26T18:13:55.699Z"
   },
   {
    "duration": 3,
    "start_time": "2024-10-26T18:13:55.975Z"
   },
   {
    "duration": 9,
    "start_time": "2024-10-26T18:14:00.605Z"
   },
   {
    "duration": 7,
    "start_time": "2024-10-26T18:14:04.163Z"
   },
   {
    "duration": 10,
    "start_time": "2024-10-26T18:14:07.813Z"
   },
   {
    "duration": 193,
    "start_time": "2024-10-26T18:15:44.278Z"
   },
   {
    "duration": 140,
    "start_time": "2024-10-26T18:16:04.133Z"
   },
   {
    "duration": 151,
    "start_time": "2024-10-26T18:16:18.559Z"
   },
   {
    "duration": 1101,
    "start_time": "2024-10-26T18:18:15.624Z"
   },
   {
    "duration": 135,
    "start_time": "2024-10-26T18:19:31.372Z"
   },
   {
    "duration": 611,
    "start_time": "2024-10-26T18:20:11.580Z"
   },
   {
    "duration": 284,
    "start_time": "2024-10-26T18:20:59.722Z"
   },
   {
    "duration": 5,
    "start_time": "2024-10-26T18:22:08.563Z"
   },
   {
    "duration": 6,
    "start_time": "2024-10-26T18:22:53.000Z"
   },
   {
    "duration": 7,
    "start_time": "2024-10-26T18:23:31.241Z"
   },
   {
    "duration": 1252,
    "start_time": "2024-10-26T18:24:33.962Z"
   },
   {
    "duration": 1214,
    "start_time": "2024-10-26T18:26:14.880Z"
   },
   {
    "duration": 1145,
    "start_time": "2024-10-26T18:26:25.648Z"
   },
   {
    "duration": 2782,
    "start_time": "2024-10-26T18:45:41.955Z"
   },
   {
    "duration": 25,
    "start_time": "2024-10-26T18:45:44.739Z"
   },
   {
    "duration": 3,
    "start_time": "2024-10-26T18:45:44.766Z"
   },
   {
    "duration": 16,
    "start_time": "2024-10-26T18:45:44.771Z"
   },
   {
    "duration": 7,
    "start_time": "2024-10-26T18:45:44.789Z"
   },
   {
    "duration": 9,
    "start_time": "2024-10-26T18:45:44.798Z"
   },
   {
    "duration": 206,
    "start_time": "2024-10-26T18:45:44.809Z"
   },
   {
    "duration": 11,
    "start_time": "2024-10-26T18:45:45.017Z"
   },
   {
    "duration": 135,
    "start_time": "2024-10-26T18:45:45.030Z"
   },
   {
    "duration": 939,
    "start_time": "2024-10-26T18:45:45.169Z"
   },
   {
    "duration": 134,
    "start_time": "2024-10-26T18:45:46.109Z"
   },
   {
    "duration": 296,
    "start_time": "2024-10-26T18:45:46.245Z"
   },
   {
    "duration": 4,
    "start_time": "2024-10-26T18:45:46.543Z"
   },
   {
    "duration": 6,
    "start_time": "2024-10-26T18:45:46.549Z"
   },
   {
    "duration": 5,
    "start_time": "2024-10-26T18:45:46.556Z"
   },
   {
    "duration": 1232,
    "start_time": "2024-10-26T18:45:46.562Z"
   },
   {
    "duration": 477,
    "start_time": "2024-10-26T18:45:47.796Z"
   },
   {
    "duration": 0,
    "start_time": "2024-10-26T18:45:48.275Z"
   },
   {
    "duration": 0,
    "start_time": "2024-10-26T18:45:48.276Z"
   },
   {
    "duration": 0,
    "start_time": "2024-10-26T18:45:48.277Z"
   },
   {
    "duration": 0,
    "start_time": "2024-10-26T18:45:48.288Z"
   },
   {
    "duration": 1160,
    "start_time": "2024-10-26T18:46:58.262Z"
   },
   {
    "duration": 1088,
    "start_time": "2024-10-26T18:47:35.204Z"
   },
   {
    "duration": 23,
    "start_time": "2024-10-26T18:49:22.146Z"
   },
   {
    "duration": 11291,
    "start_time": "2024-10-26T18:53:47.055Z"
   },
   {
    "duration": 25,
    "start_time": "2024-10-26T18:54:04.286Z"
   },
   {
    "duration": 1022,
    "start_time": "2024-10-26T18:54:25.405Z"
   },
   {
    "duration": 22,
    "start_time": "2024-10-26T18:54:26.429Z"
   },
   {
    "duration": 3,
    "start_time": "2024-10-26T18:54:26.453Z"
   },
   {
    "duration": 8,
    "start_time": "2024-10-26T18:54:26.459Z"
   },
   {
    "duration": 23,
    "start_time": "2024-10-26T18:54:26.468Z"
   },
   {
    "duration": 10,
    "start_time": "2024-10-26T18:54:26.492Z"
   },
   {
    "duration": 184,
    "start_time": "2024-10-26T18:54:26.503Z"
   },
   {
    "duration": 10,
    "start_time": "2024-10-26T18:54:26.689Z"
   },
   {
    "duration": 146,
    "start_time": "2024-10-26T18:54:26.701Z"
   },
   {
    "duration": 957,
    "start_time": "2024-10-26T18:54:26.851Z"
   },
   {
    "duration": 133,
    "start_time": "2024-10-26T18:54:27.810Z"
   },
   {
    "duration": 368,
    "start_time": "2024-10-26T18:54:27.945Z"
   },
   {
    "duration": 5,
    "start_time": "2024-10-26T18:54:28.315Z"
   },
   {
    "duration": 6,
    "start_time": "2024-10-26T18:54:28.322Z"
   },
   {
    "duration": 5,
    "start_time": "2024-10-26T18:54:28.330Z"
   },
   {
    "duration": 1258,
    "start_time": "2024-10-26T18:54:28.337Z"
   },
   {
    "duration": 1543,
    "start_time": "2024-10-26T18:54:29.597Z"
   },
   {
    "duration": 323,
    "start_time": "2024-10-26T18:54:31.142Z"
   },
   {
    "duration": 0,
    "start_time": "2024-10-26T18:54:31.472Z"
   },
   {
    "duration": 0,
    "start_time": "2024-10-26T18:54:31.474Z"
   },
   {
    "duration": 0,
    "start_time": "2024-10-26T18:54:31.478Z"
   },
   {
    "duration": 0,
    "start_time": "2024-10-26T18:54:31.479Z"
   },
   {
    "duration": 0,
    "start_time": "2024-10-26T18:54:31.482Z"
   },
   {
    "duration": 17,
    "start_time": "2024-10-26T18:55:07.683Z"
   },
   {
    "duration": 15,
    "start_time": "2024-10-26T19:05:55.755Z"
   },
   {
    "duration": 6,
    "start_time": "2024-10-26T19:06:45.691Z"
   },
   {
    "duration": 15,
    "start_time": "2024-10-26T19:07:04.473Z"
   },
   {
    "duration": 17,
    "start_time": "2024-10-26T19:08:27.618Z"
   },
   {
    "duration": 2757,
    "start_time": "2024-10-28T22:52:26.247Z"
   },
   {
    "duration": 34,
    "start_time": "2024-10-28T22:52:29.006Z"
   },
   {
    "duration": 3,
    "start_time": "2024-10-28T22:52:29.042Z"
   },
   {
    "duration": 8,
    "start_time": "2024-10-28T22:52:29.047Z"
   },
   {
    "duration": 8,
    "start_time": "2024-10-28T22:52:29.057Z"
   },
   {
    "duration": 10,
    "start_time": "2024-10-28T22:52:29.066Z"
   },
   {
    "duration": 199,
    "start_time": "2024-10-28T22:52:29.077Z"
   },
   {
    "duration": 10,
    "start_time": "2024-10-28T22:52:29.278Z"
   },
   {
    "duration": 136,
    "start_time": "2024-10-28T22:52:29.290Z"
   },
   {
    "duration": 936,
    "start_time": "2024-10-28T22:52:29.428Z"
   },
   {
    "duration": 130,
    "start_time": "2024-10-28T22:52:30.365Z"
   },
   {
    "duration": 296,
    "start_time": "2024-10-28T22:52:30.497Z"
   },
   {
    "duration": 16,
    "start_time": "2024-10-28T22:52:30.795Z"
   },
   {
    "duration": 6,
    "start_time": "2024-10-28T22:52:30.814Z"
   },
   {
    "duration": 5,
    "start_time": "2024-10-28T22:52:30.821Z"
   },
   {
    "duration": 1185,
    "start_time": "2024-10-28T22:52:30.828Z"
   },
   {
    "duration": 339,
    "start_time": "2024-10-28T22:52:32.015Z"
   },
   {
    "duration": 0,
    "start_time": "2024-10-28T22:52:32.356Z"
   },
   {
    "duration": 0,
    "start_time": "2024-10-28T22:52:32.357Z"
   },
   {
    "duration": 0,
    "start_time": "2024-10-28T22:52:32.358Z"
   },
   {
    "duration": 0,
    "start_time": "2024-10-28T22:52:32.359Z"
   },
   {
    "duration": 0,
    "start_time": "2024-10-28T22:52:32.360Z"
   },
   {
    "duration": 0,
    "start_time": "2024-10-28T22:52:32.361Z"
   },
   {
    "duration": 0,
    "start_time": "2024-10-28T22:52:32.363Z"
   },
   {
    "duration": 1036,
    "start_time": "2024-10-28T22:55:24.614Z"
   },
   {
    "duration": 22,
    "start_time": "2024-10-28T22:55:25.652Z"
   },
   {
    "duration": 4,
    "start_time": "2024-10-28T22:55:25.675Z"
   },
   {
    "duration": 8,
    "start_time": "2024-10-28T22:55:25.680Z"
   },
   {
    "duration": 24,
    "start_time": "2024-10-28T22:55:25.691Z"
   },
   {
    "duration": 9,
    "start_time": "2024-10-28T22:55:25.716Z"
   },
   {
    "duration": 194,
    "start_time": "2024-10-28T22:55:25.726Z"
   },
   {
    "duration": 10,
    "start_time": "2024-10-28T22:55:25.923Z"
   },
   {
    "duration": 146,
    "start_time": "2024-10-28T22:55:25.934Z"
   },
   {
    "duration": 950,
    "start_time": "2024-10-28T22:55:26.082Z"
   },
   {
    "duration": 127,
    "start_time": "2024-10-28T22:55:27.034Z"
   },
   {
    "duration": 385,
    "start_time": "2024-10-28T22:55:27.163Z"
   },
   {
    "duration": 4,
    "start_time": "2024-10-28T22:55:27.550Z"
   },
   {
    "duration": 6,
    "start_time": "2024-10-28T22:55:27.559Z"
   },
   {
    "duration": 5,
    "start_time": "2024-10-28T22:55:27.567Z"
   },
   {
    "duration": 1248,
    "start_time": "2024-10-28T22:55:27.574Z"
   },
   {
    "duration": 276,
    "start_time": "2024-10-28T22:55:28.824Z"
   },
   {
    "duration": 0,
    "start_time": "2024-10-28T22:55:29.102Z"
   },
   {
    "duration": 0,
    "start_time": "2024-10-28T22:55:29.104Z"
   },
   {
    "duration": 0,
    "start_time": "2024-10-28T22:55:29.112Z"
   },
   {
    "duration": 0,
    "start_time": "2024-10-28T22:55:29.113Z"
   },
   {
    "duration": 0,
    "start_time": "2024-10-28T22:55:29.114Z"
   },
   {
    "duration": 0,
    "start_time": "2024-10-28T22:55:29.126Z"
   },
   {
    "duration": 1040,
    "start_time": "2024-10-28T22:55:50.145Z"
   },
   {
    "duration": 24,
    "start_time": "2024-10-28T22:55:51.188Z"
   },
   {
    "duration": 3,
    "start_time": "2024-10-28T22:55:51.214Z"
   },
   {
    "duration": 8,
    "start_time": "2024-10-28T22:55:51.219Z"
   },
   {
    "duration": 8,
    "start_time": "2024-10-28T22:55:51.229Z"
   },
   {
    "duration": 9,
    "start_time": "2024-10-28T22:55:51.239Z"
   },
   {
    "duration": 198,
    "start_time": "2024-10-28T22:55:51.250Z"
   },
   {
    "duration": 10,
    "start_time": "2024-10-28T22:55:51.450Z"
   },
   {
    "duration": 138,
    "start_time": "2024-10-28T22:55:51.461Z"
   },
   {
    "duration": 956,
    "start_time": "2024-10-28T22:55:51.603Z"
   },
   {
    "duration": 132,
    "start_time": "2024-10-28T22:55:52.561Z"
   },
   {
    "duration": 373,
    "start_time": "2024-10-28T22:55:52.695Z"
   },
   {
    "duration": 5,
    "start_time": "2024-10-28T22:55:53.069Z"
   },
   {
    "duration": 6,
    "start_time": "2024-10-28T22:55:53.076Z"
   },
   {
    "duration": 4,
    "start_time": "2024-10-28T22:55:53.084Z"
   },
   {
    "duration": 1232,
    "start_time": "2024-10-28T22:55:53.090Z"
   },
   {
    "duration": 282,
    "start_time": "2024-10-28T22:55:54.324Z"
   },
   {
    "duration": 0,
    "start_time": "2024-10-28T22:55:54.612Z"
   },
   {
    "duration": 0,
    "start_time": "2024-10-28T22:55:54.613Z"
   },
   {
    "duration": 0,
    "start_time": "2024-10-28T22:55:54.614Z"
   },
   {
    "duration": 0,
    "start_time": "2024-10-28T22:55:54.616Z"
   },
   {
    "duration": 0,
    "start_time": "2024-10-28T22:55:54.617Z"
   },
   {
    "duration": 1037,
    "start_time": "2024-10-28T22:57:00.091Z"
   },
   {
    "duration": 21,
    "start_time": "2024-10-28T22:57:01.130Z"
   },
   {
    "duration": 2,
    "start_time": "2024-10-28T22:57:01.153Z"
   },
   {
    "duration": 9,
    "start_time": "2024-10-28T22:57:01.157Z"
   },
   {
    "duration": 7,
    "start_time": "2024-10-28T22:57:01.169Z"
   },
   {
    "duration": 39,
    "start_time": "2024-10-28T22:57:01.177Z"
   },
   {
    "duration": 188,
    "start_time": "2024-10-28T22:57:01.218Z"
   },
   {
    "duration": 13,
    "start_time": "2024-10-28T22:57:01.408Z"
   },
   {
    "duration": 142,
    "start_time": "2024-10-28T22:57:01.423Z"
   },
   {
    "duration": 977,
    "start_time": "2024-10-28T22:57:01.566Z"
   },
   {
    "duration": 133,
    "start_time": "2024-10-28T22:57:02.545Z"
   },
   {
    "duration": 362,
    "start_time": "2024-10-28T22:57:02.679Z"
   },
   {
    "duration": 4,
    "start_time": "2024-10-28T22:57:03.043Z"
   },
   {
    "duration": 6,
    "start_time": "2024-10-28T22:57:03.052Z"
   },
   {
    "duration": 5,
    "start_time": "2024-10-28T22:57:03.059Z"
   },
   {
    "duration": 1247,
    "start_time": "2024-10-28T22:57:03.066Z"
   },
   {
    "duration": 21,
    "start_time": "2024-10-28T22:57:04.315Z"
   },
   {
    "duration": 12,
    "start_time": "2024-10-28T22:57:04.337Z"
   },
   {
    "duration": 201,
    "start_time": "2024-10-28T22:57:04.350Z"
   },
   {
    "duration": 4636,
    "start_time": "2024-10-28T22:57:04.553Z"
   },
   {
    "duration": 522,
    "start_time": "2024-10-28T22:57:09.191Z"
   },
   {
    "duration": 4065,
    "start_time": "2024-10-28T22:57:09.715Z"
   },
   {
    "duration": 1041,
    "start_time": "2024-10-28T22:59:26.992Z"
   },
   {
    "duration": 23,
    "start_time": "2024-10-28T22:59:28.036Z"
   },
   {
    "duration": 3,
    "start_time": "2024-10-28T22:59:28.063Z"
   },
   {
    "duration": 9,
    "start_time": "2024-10-28T22:59:28.069Z"
   },
   {
    "duration": 32,
    "start_time": "2024-10-28T22:59:28.081Z"
   },
   {
    "duration": 10,
    "start_time": "2024-10-28T22:59:28.114Z"
   },
   {
    "duration": 182,
    "start_time": "2024-10-28T22:59:28.126Z"
   },
   {
    "duration": 11,
    "start_time": "2024-10-28T22:59:28.310Z"
   },
   {
    "duration": 148,
    "start_time": "2024-10-28T22:59:28.323Z"
   },
   {
    "duration": 984,
    "start_time": "2024-10-28T22:59:28.472Z"
   },
   {
    "duration": 130,
    "start_time": "2024-10-28T22:59:29.458Z"
   },
   {
    "duration": 382,
    "start_time": "2024-10-28T22:59:29.590Z"
   },
   {
    "duration": 5,
    "start_time": "2024-10-28T22:59:29.976Z"
   },
   {
    "duration": 249,
    "start_time": "2024-10-28T22:59:29.984Z"
   },
   {
    "duration": 0,
    "start_time": "2024-10-28T22:59:30.235Z"
   },
   {
    "duration": 0,
    "start_time": "2024-10-28T22:59:30.239Z"
   },
   {
    "duration": 0,
    "start_time": "2024-10-28T22:59:30.241Z"
   },
   {
    "duration": 0,
    "start_time": "2024-10-28T22:59:30.242Z"
   },
   {
    "duration": 0,
    "start_time": "2024-10-28T22:59:30.244Z"
   },
   {
    "duration": 0,
    "start_time": "2024-10-28T22:59:30.245Z"
   },
   {
    "duration": 0,
    "start_time": "2024-10-28T22:59:30.247Z"
   },
   {
    "duration": 1043,
    "start_time": "2024-10-28T23:00:22.079Z"
   },
   {
    "duration": 20,
    "start_time": "2024-10-28T23:00:23.125Z"
   },
   {
    "duration": 3,
    "start_time": "2024-10-28T23:00:23.146Z"
   },
   {
    "duration": 7,
    "start_time": "2024-10-28T23:00:23.152Z"
   },
   {
    "duration": 7,
    "start_time": "2024-10-28T23:00:23.161Z"
   },
   {
    "duration": 10,
    "start_time": "2024-10-28T23:00:23.169Z"
   },
   {
    "duration": 236,
    "start_time": "2024-10-28T23:00:23.181Z"
   },
   {
    "duration": 10,
    "start_time": "2024-10-28T23:00:23.419Z"
   },
   {
    "duration": 146,
    "start_time": "2024-10-28T23:00:23.431Z"
   },
   {
    "duration": 956,
    "start_time": "2024-10-28T23:00:23.580Z"
   },
   {
    "duration": 126,
    "start_time": "2024-10-28T23:00:24.538Z"
   },
   {
    "duration": 393,
    "start_time": "2024-10-28T23:00:24.666Z"
   },
   {
    "duration": 5,
    "start_time": "2024-10-28T23:00:25.061Z"
   },
   {
    "duration": 1445,
    "start_time": "2024-10-28T23:00:25.067Z"
   },
   {
    "duration": 0,
    "start_time": "2024-10-28T23:00:26.514Z"
   },
   {
    "duration": 0,
    "start_time": "2024-10-28T23:00:26.515Z"
   },
   {
    "duration": 0,
    "start_time": "2024-10-28T23:00:26.517Z"
   },
   {
    "duration": 0,
    "start_time": "2024-10-28T23:00:26.517Z"
   },
   {
    "duration": 0,
    "start_time": "2024-10-28T23:00:26.518Z"
   },
   {
    "duration": 0,
    "start_time": "2024-10-28T23:00:26.519Z"
   },
   {
    "duration": 1089,
    "start_time": "2024-10-28T23:01:04.947Z"
   },
   {
    "duration": 22,
    "start_time": "2024-10-28T23:01:06.038Z"
   },
   {
    "duration": 3,
    "start_time": "2024-10-28T23:01:06.062Z"
   },
   {
    "duration": 8,
    "start_time": "2024-10-28T23:01:06.067Z"
   },
   {
    "duration": 7,
    "start_time": "2024-10-28T23:01:06.077Z"
   },
   {
    "duration": 34,
    "start_time": "2024-10-28T23:01:06.086Z"
   },
   {
    "duration": 175,
    "start_time": "2024-10-28T23:01:06.121Z"
   },
   {
    "duration": 11,
    "start_time": "2024-10-28T23:01:06.298Z"
   },
   {
    "duration": 138,
    "start_time": "2024-10-28T23:01:06.310Z"
   },
   {
    "duration": 947,
    "start_time": "2024-10-28T23:01:06.451Z"
   },
   {
    "duration": 128,
    "start_time": "2024-10-28T23:01:07.399Z"
   },
   {
    "duration": 362,
    "start_time": "2024-10-28T23:01:07.529Z"
   },
   {
    "duration": 5,
    "start_time": "2024-10-28T23:01:07.893Z"
   },
   {
    "duration": 27,
    "start_time": "2024-10-28T23:01:07.899Z"
   },
   {
    "duration": 12,
    "start_time": "2024-10-28T23:01:07.928Z"
   },
   {
    "duration": 214,
    "start_time": "2024-10-28T23:01:07.941Z"
   },
   {
    "duration": 4655,
    "start_time": "2024-10-28T23:01:08.157Z"
   },
   {
    "duration": 510,
    "start_time": "2024-10-28T23:01:12.814Z"
   },
   {
    "duration": 4095,
    "start_time": "2024-10-28T23:01:13.327Z"
   },
   {
    "duration": 1080,
    "start_time": "2024-10-28T23:02:57.860Z"
   },
   {
    "duration": 20,
    "start_time": "2024-10-28T23:02:58.943Z"
   },
   {
    "duration": 3,
    "start_time": "2024-10-28T23:02:58.965Z"
   },
   {
    "duration": 9,
    "start_time": "2024-10-28T23:02:58.970Z"
   },
   {
    "duration": 8,
    "start_time": "2024-10-28T23:02:58.980Z"
   },
   {
    "duration": 10,
    "start_time": "2024-10-28T23:02:59.012Z"
   },
   {
    "duration": 196,
    "start_time": "2024-10-28T23:02:59.024Z"
   },
   {
    "duration": 10,
    "start_time": "2024-10-28T23:02:59.222Z"
   },
   {
    "duration": 145,
    "start_time": "2024-10-28T23:02:59.234Z"
   },
   {
    "duration": 987,
    "start_time": "2024-10-28T23:02:59.383Z"
   },
   {
    "duration": 134,
    "start_time": "2024-10-28T23:03:00.372Z"
   },
   {
    "duration": 377,
    "start_time": "2024-10-28T23:03:00.508Z"
   },
   {
    "duration": 32,
    "start_time": "2024-10-28T23:03:00.888Z"
   },
   {
    "duration": 16,
    "start_time": "2024-10-28T23:03:00.922Z"
   },
   {
    "duration": 218,
    "start_time": "2024-10-28T23:03:00.940Z"
   },
   {
    "duration": 4668,
    "start_time": "2024-10-28T23:03:01.160Z"
   },
   {
    "duration": 488,
    "start_time": "2024-10-28T23:03:05.830Z"
   },
   {
    "duration": 4098,
    "start_time": "2024-10-28T23:03:06.321Z"
   },
   {
    "duration": 1086,
    "start_time": "2024-10-29T00:14:47.765Z"
   },
   {
    "duration": 23,
    "start_time": "2024-10-29T00:14:48.853Z"
   },
   {
    "duration": 3,
    "start_time": "2024-10-29T00:14:48.877Z"
   },
   {
    "duration": 8,
    "start_time": "2024-10-29T00:14:48.883Z"
   },
   {
    "duration": 23,
    "start_time": "2024-10-29T00:14:48.893Z"
   },
   {
    "duration": 10,
    "start_time": "2024-10-29T00:14:48.918Z"
   },
   {
    "duration": 194,
    "start_time": "2024-10-29T00:14:48.930Z"
   },
   {
    "duration": 11,
    "start_time": "2024-10-29T00:14:49.126Z"
   },
   {
    "duration": 150,
    "start_time": "2024-10-29T00:14:49.138Z"
   },
   {
    "duration": 996,
    "start_time": "2024-10-29T00:14:49.291Z"
   },
   {
    "duration": 137,
    "start_time": "2024-10-29T00:14:50.289Z"
   },
   {
    "duration": 387,
    "start_time": "2024-10-29T00:14:50.428Z"
   },
   {
    "duration": 16,
    "start_time": "2024-10-29T00:14:50.817Z"
   },
   {
    "duration": 8,
    "start_time": "2024-10-29T00:14:50.834Z"
   },
   {
    "duration": 85,
    "start_time": "2024-10-29T00:14:50.843Z"
   },
   {
    "duration": 1200,
    "start_time": "2024-10-29T00:14:50.930Z"
   },
   {
    "duration": 202,
    "start_time": "2024-10-29T00:14:52.132Z"
   },
   {
    "duration": 6,
    "start_time": "2024-10-29T00:14:52.416Z"
   },
   {
    "duration": 1065,
    "start_time": "2024-10-29T00:16:43.573Z"
   },
   {
    "duration": 21,
    "start_time": "2024-10-29T00:16:44.640Z"
   },
   {
    "duration": 3,
    "start_time": "2024-10-29T00:16:44.663Z"
   },
   {
    "duration": 9,
    "start_time": "2024-10-29T00:16:44.668Z"
   },
   {
    "duration": 8,
    "start_time": "2024-10-29T00:16:44.680Z"
   },
   {
    "duration": 33,
    "start_time": "2024-10-29T00:16:44.691Z"
   },
   {
    "duration": 178,
    "start_time": "2024-10-29T00:16:44.726Z"
   },
   {
    "duration": 12,
    "start_time": "2024-10-29T00:16:44.906Z"
   },
   {
    "duration": 149,
    "start_time": "2024-10-29T00:16:44.920Z"
   },
   {
    "duration": 959,
    "start_time": "2024-10-29T00:16:45.072Z"
   },
   {
    "duration": 15,
    "start_time": "2024-10-29T00:16:46.032Z"
   },
   {
    "duration": 13,
    "start_time": "2024-10-29T00:16:46.049Z"
   },
   {
    "duration": 68,
    "start_time": "2024-10-29T00:16:46.065Z"
   },
   {
    "duration": 1230,
    "start_time": "2024-10-29T00:16:46.136Z"
   },
   {
    "duration": 461,
    "start_time": "2024-10-29T00:16:47.368Z"
   },
   {
    "duration": 2802,
    "start_time": "2024-10-29T22:08:37.487Z"
   },
   {
    "duration": 33,
    "start_time": "2024-10-29T22:08:40.292Z"
   },
   {
    "duration": 4,
    "start_time": "2024-10-29T22:08:40.327Z"
   },
   {
    "duration": 9,
    "start_time": "2024-10-29T22:08:40.335Z"
   },
   {
    "duration": 8,
    "start_time": "2024-10-29T22:08:40.345Z"
   },
   {
    "duration": 10,
    "start_time": "2024-10-29T22:08:40.354Z"
   },
   {
    "duration": 185,
    "start_time": "2024-10-29T22:08:40.386Z"
   },
   {
    "duration": 10,
    "start_time": "2024-10-29T22:08:40.573Z"
   },
   {
    "duration": 203,
    "start_time": "2024-10-29T22:08:40.585Z"
   },
   {
    "duration": 949,
    "start_time": "2024-10-29T22:08:40.791Z"
   },
   {
    "duration": 14,
    "start_time": "2024-10-29T22:08:41.742Z"
   },
   {
    "duration": 29,
    "start_time": "2024-10-29T22:08:41.758Z"
   },
   {
    "duration": 25,
    "start_time": "2024-10-29T22:08:41.789Z"
   },
   {
    "duration": 1201,
    "start_time": "2024-10-29T22:08:41.816Z"
   },
   {
    "duration": 390,
    "start_time": "2024-10-29T22:08:43.019Z"
   },
   {
    "duration": 29,
    "start_time": "2024-10-29T22:10:43.056Z"
   },
   {
    "duration": 1005,
    "start_time": "2024-10-29T22:16:16.865Z"
   },
   {
    "duration": 24,
    "start_time": "2024-10-29T22:16:17.872Z"
   },
   {
    "duration": 3,
    "start_time": "2024-10-29T22:16:17.898Z"
   },
   {
    "duration": 8,
    "start_time": "2024-10-29T22:16:17.904Z"
   },
   {
    "duration": 7,
    "start_time": "2024-10-29T22:16:17.914Z"
   },
   {
    "duration": 9,
    "start_time": "2024-10-29T22:16:17.923Z"
   },
   {
    "duration": 213,
    "start_time": "2024-10-29T22:16:17.934Z"
   },
   {
    "duration": 10,
    "start_time": "2024-10-29T22:16:18.149Z"
   },
   {
    "duration": 136,
    "start_time": "2024-10-29T22:16:18.160Z"
   },
   {
    "duration": 910,
    "start_time": "2024-10-29T22:16:18.300Z"
   },
   {
    "duration": 15,
    "start_time": "2024-10-29T22:16:19.212Z"
   },
   {
    "duration": 8,
    "start_time": "2024-10-29T22:16:19.228Z"
   },
   {
    "duration": 60,
    "start_time": "2024-10-29T22:16:19.237Z"
   },
   {
    "duration": 1198,
    "start_time": "2024-10-29T22:16:19.298Z"
   },
   {
    "duration": 305,
    "start_time": "2024-10-29T22:16:20.498Z"
   },
   {
    "duration": 1011,
    "start_time": "2024-10-29T23:16:35.060Z"
   },
   {
    "duration": 22,
    "start_time": "2024-10-29T23:16:36.074Z"
   },
   {
    "duration": 3,
    "start_time": "2024-10-29T23:16:36.098Z"
   },
   {
    "duration": 8,
    "start_time": "2024-10-29T23:16:36.104Z"
   },
   {
    "duration": 8,
    "start_time": "2024-10-29T23:16:36.114Z"
   },
   {
    "duration": 9,
    "start_time": "2024-10-29T23:16:36.124Z"
   },
   {
    "duration": 208,
    "start_time": "2024-10-29T23:16:36.135Z"
   },
   {
    "duration": 9,
    "start_time": "2024-10-29T23:16:36.346Z"
   },
   {
    "duration": 135,
    "start_time": "2024-10-29T23:16:36.357Z"
   },
   {
    "duration": 947,
    "start_time": "2024-10-29T23:16:36.495Z"
   },
   {
    "duration": 15,
    "start_time": "2024-10-29T23:16:37.444Z"
   },
   {
    "duration": 26,
    "start_time": "2024-10-29T23:16:37.461Z"
   },
   {
    "duration": 97,
    "start_time": "2024-10-29T23:16:37.490Z"
   },
   {
    "duration": 1140,
    "start_time": "2024-10-29T23:16:37.588Z"
   },
   {
    "duration": 257,
    "start_time": "2024-10-29T23:16:38.730Z"
   },
   {
    "duration": 5643,
    "start_time": "2024-10-29T23:27:24.858Z"
   },
   {
    "duration": 2528,
    "start_time": "2024-10-29T23:28:04.039Z"
   },
   {
    "duration": 6409,
    "start_time": "2024-10-29T23:29:34.951Z"
   },
   {
    "duration": 2285,
    "start_time": "2024-10-29T23:30:01.411Z"
   },
   {
    "duration": 1682,
    "start_time": "2024-10-29T23:30:27.925Z"
   },
   {
    "duration": 1398,
    "start_time": "2024-10-29T23:30:46.034Z"
   },
   {
    "duration": 1683,
    "start_time": "2024-10-29T23:30:58.033Z"
   },
   {
    "duration": 1401,
    "start_time": "2024-10-29T23:31:34.172Z"
   },
   {
    "duration": 1937,
    "start_time": "2024-10-29T23:31:43.336Z"
   },
   {
    "duration": 2195,
    "start_time": "2024-10-29T23:32:03.622Z"
   },
   {
    "duration": 1704,
    "start_time": "2024-10-29T23:32:13.398Z"
   },
   {
    "duration": 59777,
    "start_time": "2024-10-29T23:46:52.215Z"
   },
   {
    "duration": 218746,
    "start_time": "2024-10-29T23:51:41.653Z"
   },
   {
    "duration": 874,
    "start_time": "2024-10-29T23:59:20.059Z"
   },
   {
    "duration": 871,
    "start_time": "2024-10-29T23:59:54.878Z"
   },
   {
    "duration": 96394,
    "start_time": "2024-10-30T00:01:38.407Z"
   },
   {
    "duration": 1686,
    "start_time": "2024-10-30T00:04:58.725Z"
   },
   {
    "duration": 875,
    "start_time": "2024-10-30T00:05:08.486Z"
   },
   {
    "duration": 79,
    "start_time": "2024-10-30T00:09:58.015Z"
   },
   {
    "duration": 2381,
    "start_time": "2024-10-30T00:16:17.566Z"
   },
   {
    "duration": 1708,
    "start_time": "2024-10-30T00:16:33.917Z"
   },
   {
    "duration": 1715,
    "start_time": "2024-10-30T00:17:00.375Z"
   },
   {
    "duration": 2782,
    "start_time": "2024-11-01T16:10:21.356Z"
   },
   {
    "duration": 34,
    "start_time": "2024-11-01T16:10:24.140Z"
   },
   {
    "duration": 3,
    "start_time": "2024-11-01T16:10:24.175Z"
   },
   {
    "duration": 10,
    "start_time": "2024-11-01T16:10:24.180Z"
   },
   {
    "duration": 7,
    "start_time": "2024-11-01T16:10:24.193Z"
   },
   {
    "duration": 27,
    "start_time": "2024-11-01T16:10:24.202Z"
   },
   {
    "duration": 246,
    "start_time": "2024-11-01T16:10:24.231Z"
   },
   {
    "duration": 10,
    "start_time": "2024-11-01T16:10:24.479Z"
   },
   {
    "duration": 138,
    "start_time": "2024-11-01T16:10:24.490Z"
   },
   {
    "duration": 943,
    "start_time": "2024-11-01T16:10:24.630Z"
   },
   {
    "duration": 15,
    "start_time": "2024-11-01T16:10:25.576Z"
   },
   {
    "duration": 8,
    "start_time": "2024-11-01T16:10:25.592Z"
   },
   {
    "duration": 26,
    "start_time": "2024-11-01T16:10:25.624Z"
   },
   {
    "duration": 1573,
    "start_time": "2024-11-01T16:10:25.654Z"
   },
   {
    "duration": 306,
    "start_time": "2024-11-01T16:10:27.229Z"
   },
   {
    "duration": 55696,
    "start_time": "2024-11-01T16:10:27.538Z"
   },
   {
    "duration": 1098,
    "start_time": "2024-11-01T16:12:07.176Z"
   },
   {
    "duration": 25,
    "start_time": "2024-11-01T16:12:08.276Z"
   },
   {
    "duration": 3,
    "start_time": "2024-11-01T16:12:08.303Z"
   },
   {
    "duration": 22,
    "start_time": "2024-11-01T16:12:08.308Z"
   },
   {
    "duration": 8,
    "start_time": "2024-11-01T16:12:08.332Z"
   },
   {
    "duration": 12,
    "start_time": "2024-11-01T16:12:08.342Z"
   },
   {
    "duration": 201,
    "start_time": "2024-11-01T16:12:08.356Z"
   },
   {
    "duration": 12,
    "start_time": "2024-11-01T16:12:08.559Z"
   },
   {
    "duration": 137,
    "start_time": "2024-11-01T16:12:08.573Z"
   },
   {
    "duration": 946,
    "start_time": "2024-11-01T16:12:08.712Z"
   },
   {
    "duration": 15,
    "start_time": "2024-11-01T16:12:09.660Z"
   },
   {
    "duration": 8,
    "start_time": "2024-11-01T16:12:09.677Z"
   },
   {
    "duration": 53,
    "start_time": "2024-11-01T16:12:09.688Z"
   },
   {
    "duration": 1397,
    "start_time": "2024-11-01T16:12:09.745Z"
   },
   {
    "duration": 197,
    "start_time": "2024-11-01T16:12:11.144Z"
   },
   {
    "duration": 1021,
    "start_time": "2024-11-01T16:12:34.807Z"
   },
   {
    "duration": 20,
    "start_time": "2024-11-01T16:12:35.830Z"
   },
   {
    "duration": 3,
    "start_time": "2024-11-01T16:12:35.852Z"
   },
   {
    "duration": 8,
    "start_time": "2024-11-01T16:12:35.857Z"
   },
   {
    "duration": 8,
    "start_time": "2024-11-01T16:12:35.866Z"
   },
   {
    "duration": 9,
    "start_time": "2024-11-01T16:12:35.875Z"
   },
   {
    "duration": 199,
    "start_time": "2024-11-01T16:12:35.885Z"
   },
   {
    "duration": 10,
    "start_time": "2024-11-01T16:12:36.086Z"
   },
   {
    "duration": 137,
    "start_time": "2024-11-01T16:12:36.098Z"
   },
   {
    "duration": 907,
    "start_time": "2024-11-01T16:12:36.239Z"
   },
   {
    "duration": 12,
    "start_time": "2024-11-01T16:12:37.148Z"
   },
   {
    "duration": 8,
    "start_time": "2024-11-01T16:12:37.162Z"
   },
   {
    "duration": 53,
    "start_time": "2024-11-01T16:12:37.171Z"
   },
   {
    "duration": 1209,
    "start_time": "2024-11-01T16:12:37.226Z"
   },
   {
    "duration": 202,
    "start_time": "2024-11-01T16:12:38.438Z"
   },
   {
    "duration": 1067,
    "start_time": "2024-11-01T16:13:03.467Z"
   },
   {
    "duration": 23,
    "start_time": "2024-11-01T16:13:04.539Z"
   },
   {
    "duration": 3,
    "start_time": "2024-11-01T16:13:04.564Z"
   },
   {
    "duration": 11,
    "start_time": "2024-11-01T16:13:04.569Z"
   },
   {
    "duration": 8,
    "start_time": "2024-11-01T16:13:04.583Z"
   },
   {
    "duration": 10,
    "start_time": "2024-11-01T16:13:04.593Z"
   },
   {
    "duration": 199,
    "start_time": "2024-11-01T16:13:04.626Z"
   },
   {
    "duration": 10,
    "start_time": "2024-11-01T16:13:04.826Z"
   },
   {
    "duration": 168,
    "start_time": "2024-11-01T16:13:04.838Z"
   },
   {
    "duration": 941,
    "start_time": "2024-11-01T16:13:05.008Z"
   },
   {
    "duration": 16,
    "start_time": "2024-11-01T16:13:05.951Z"
   },
   {
    "duration": 7,
    "start_time": "2024-11-01T16:13:05.968Z"
   },
   {
    "duration": 50,
    "start_time": "2024-11-01T16:13:05.977Z"
   },
   {
    "duration": 1020,
    "start_time": "2024-11-01T16:13:06.030Z"
   },
   {
    "duration": 184,
    "start_time": "2024-11-01T16:13:07.052Z"
   },
   {
    "duration": 1179,
    "start_time": "2024-11-01T16:13:28.953Z"
   },
   {
    "duration": 29,
    "start_time": "2024-11-01T16:13:30.138Z"
   },
   {
    "duration": 4,
    "start_time": "2024-11-01T16:13:30.169Z"
   },
   {
    "duration": 9,
    "start_time": "2024-11-01T16:13:30.178Z"
   },
   {
    "duration": 12,
    "start_time": "2024-11-01T16:13:30.189Z"
   },
   {
    "duration": 26,
    "start_time": "2024-11-01T16:13:30.204Z"
   },
   {
    "duration": 224,
    "start_time": "2024-11-01T16:13:30.232Z"
   },
   {
    "duration": 12,
    "start_time": "2024-11-01T16:13:30.458Z"
   },
   {
    "duration": 147,
    "start_time": "2024-11-01T16:13:30.471Z"
   },
   {
    "duration": 935,
    "start_time": "2024-11-01T16:13:30.621Z"
   },
   {
    "duration": 12,
    "start_time": "2024-11-01T16:13:31.558Z"
   },
   {
    "duration": 8,
    "start_time": "2024-11-01T16:13:31.571Z"
   },
   {
    "duration": 13,
    "start_time": "2024-11-01T16:13:31.580Z"
   },
   {
    "duration": 800,
    "start_time": "2024-11-01T16:13:31.594Z"
   },
   {
    "duration": 235,
    "start_time": "2024-11-01T16:13:32.396Z"
   },
   {
    "duration": 1058,
    "start_time": "2024-11-01T16:13:56.545Z"
   },
   {
    "duration": 26,
    "start_time": "2024-11-01T16:13:57.605Z"
   },
   {
    "duration": 3,
    "start_time": "2024-11-01T16:13:57.633Z"
   },
   {
    "duration": 9,
    "start_time": "2024-11-01T16:13:57.638Z"
   },
   {
    "duration": 7,
    "start_time": "2024-11-01T16:13:57.650Z"
   },
   {
    "duration": 2659,
    "start_time": "2024-11-01T22:37:31.780Z"
   },
   {
    "duration": 32,
    "start_time": "2024-11-01T22:37:34.441Z"
   },
   {
    "duration": 3,
    "start_time": "2024-11-01T22:37:34.474Z"
   },
   {
    "duration": 8,
    "start_time": "2024-11-01T22:37:34.478Z"
   },
   {
    "duration": 7,
    "start_time": "2024-11-01T22:37:34.489Z"
   },
   {
    "duration": 10,
    "start_time": "2024-11-01T22:37:34.498Z"
   },
   {
    "duration": 232,
    "start_time": "2024-11-01T22:37:34.525Z"
   },
   {
    "duration": 11,
    "start_time": "2024-11-01T22:37:34.758Z"
   },
   {
    "duration": 134,
    "start_time": "2024-11-01T22:37:34.771Z"
   },
   {
    "duration": 944,
    "start_time": "2024-11-01T22:37:34.907Z"
   },
   {
    "duration": 19,
    "start_time": "2024-11-01T22:37:35.853Z"
   },
   {
    "duration": 8,
    "start_time": "2024-11-01T22:37:35.875Z"
   },
   {
    "duration": 60,
    "start_time": "2024-11-01T22:37:35.885Z"
   },
   {
    "duration": 1761,
    "start_time": "2024-11-01T22:37:35.948Z"
   },
   {
    "duration": 340,
    "start_time": "2024-11-01T22:37:37.712Z"
   },
   {
    "duration": 61215,
    "start_time": "2024-11-01T22:37:38.125Z"
   },
   {
    "duration": 7,
    "start_time": "2024-11-01T22:48:56.037Z"
   },
   {
    "duration": 875,
    "start_time": "2024-11-01T22:51:06.975Z"
   },
   {
    "duration": 449,
    "start_time": "2024-11-01T22:52:40.651Z"
   },
   {
    "duration": 914,
    "start_time": "2024-11-01T22:52:52.211Z"
   },
   {
    "duration": 1301,
    "start_time": "2024-11-01T22:52:59.427Z"
   },
   {
    "duration": 864,
    "start_time": "2024-11-01T22:53:12.343Z"
   },
   {
    "duration": 12,
    "start_time": "2024-11-01T23:09:20.558Z"
   },
   {
    "duration": 15,
    "start_time": "2024-11-01T23:10:10.746Z"
   },
   {
    "duration": 919,
    "start_time": "2024-11-01T23:13:27.417Z"
   },
   {
    "duration": 1682,
    "start_time": "2024-11-01T23:13:43.519Z"
   },
   {
    "duration": 1478,
    "start_time": "2024-11-01T23:18:36.410Z"
   },
   {
    "duration": 33181,
    "start_time": "2024-11-01T23:20:08.191Z"
   },
   {
    "duration": 3,
    "start_time": "2024-11-01T23:21:54.570Z"
   },
   {
    "duration": 3,
    "start_time": "2024-11-01T23:22:59.217Z"
   },
   {
    "duration": 3,
    "start_time": "2024-11-01T23:23:42.660Z"
   },
   {
    "duration": 12,
    "start_time": "2024-11-01T23:40:00.863Z"
   },
   {
    "duration": 163,
    "start_time": "2024-11-01T23:42:31.333Z"
   },
   {
    "duration": 4,
    "start_time": "2024-11-01T23:43:26.547Z"
   },
   {
    "duration": 16,
    "start_time": "2024-11-01T23:49:52.789Z"
   },
   {
    "duration": 4,
    "start_time": "2024-11-01T23:49:55.319Z"
   },
   {
    "duration": 77,
    "start_time": "2024-11-01T23:50:14.388Z"
   },
   {
    "duration": 19,
    "start_time": "2024-11-02T00:01:43.135Z"
   },
   {
    "duration": 3,
    "start_time": "2024-11-02T00:01:46.622Z"
   },
   {
    "duration": 13,
    "start_time": "2024-11-02T00:01:56.173Z"
   },
   {
    "duration": 130689,
    "start_time": "2024-11-02T00:04:26.383Z"
   },
   {
    "duration": 3889,
    "start_time": "2024-11-02T00:15:17.558Z"
   },
   {
    "duration": 153,
    "start_time": "2024-11-02T00:19:16.085Z"
   },
   {
    "duration": 60,
    "start_time": "2024-11-02T00:19:26.065Z"
   },
   {
    "duration": 125,
    "start_time": "2024-11-02T00:19:36.524Z"
   },
   {
    "duration": 22,
    "start_time": "2024-11-02T00:22:26.191Z"
   },
   {
    "duration": 70,
    "start_time": "2024-11-02T00:26:10.463Z"
   },
   {
    "duration": 26,
    "start_time": "2024-11-02T00:26:42.107Z"
   },
   {
    "duration": 39,
    "start_time": "2024-11-02T00:26:45.836Z"
   },
   {
    "duration": 3791,
    "start_time": "2024-11-02T00:27:10.573Z"
   },
   {
    "duration": 349,
    "start_time": "2024-11-02T00:27:43.089Z"
   },
   {
    "duration": 96178,
    "start_time": "2024-11-02T00:28:06.146Z"
   },
   {
    "duration": 3244,
    "start_time": "2024-11-02T00:29:42.326Z"
   },
   {
    "duration": 982,
    "start_time": "2024-11-02T00:32:25.383Z"
   },
   {
    "duration": 21,
    "start_time": "2024-11-02T00:32:26.367Z"
   },
   {
    "duration": 3,
    "start_time": "2024-11-02T00:32:26.389Z"
   },
   {
    "duration": 7,
    "start_time": "2024-11-02T00:32:26.395Z"
   },
   {
    "duration": 24,
    "start_time": "2024-11-02T00:32:26.404Z"
   },
   {
    "duration": 9,
    "start_time": "2024-11-02T00:32:26.430Z"
   },
   {
    "duration": 184,
    "start_time": "2024-11-02T00:32:26.440Z"
   },
   {
    "duration": 11,
    "start_time": "2024-11-02T00:32:26.626Z"
   },
   {
    "duration": 140,
    "start_time": "2024-11-02T00:32:26.638Z"
   },
   {
    "duration": 960,
    "start_time": "2024-11-02T00:32:26.781Z"
   },
   {
    "duration": 22,
    "start_time": "2024-11-02T00:32:27.743Z"
   },
   {
    "duration": 4,
    "start_time": "2024-11-02T00:32:27.766Z"
   },
   {
    "duration": 454,
    "start_time": "2024-11-02T00:32:27.772Z"
   },
   {
    "duration": 0,
    "start_time": "2024-11-02T00:32:28.228Z"
   },
   {
    "duration": 0,
    "start_time": "2024-11-02T00:32:28.229Z"
   },
   {
    "duration": 0,
    "start_time": "2024-11-02T00:32:28.231Z"
   },
   {
    "duration": 0,
    "start_time": "2024-11-02T00:32:28.232Z"
   },
   {
    "duration": 0,
    "start_time": "2024-11-02T00:32:28.233Z"
   },
   {
    "duration": 0,
    "start_time": "2024-11-02T00:32:28.234Z"
   },
   {
    "duration": 0,
    "start_time": "2024-11-02T00:32:28.235Z"
   },
   {
    "duration": 0,
    "start_time": "2024-11-02T00:32:28.236Z"
   },
   {
    "duration": 1134,
    "start_time": "2024-11-02T00:33:08.342Z"
   },
   {
    "duration": 22,
    "start_time": "2024-11-02T00:33:09.478Z"
   },
   {
    "duration": 3,
    "start_time": "2024-11-02T00:33:09.501Z"
   },
   {
    "duration": 23,
    "start_time": "2024-11-02T00:33:09.507Z"
   },
   {
    "duration": 7,
    "start_time": "2024-11-02T00:33:09.532Z"
   },
   {
    "duration": 10,
    "start_time": "2024-11-02T00:33:09.541Z"
   },
   {
    "duration": 212,
    "start_time": "2024-11-02T00:33:09.553Z"
   },
   {
    "duration": 11,
    "start_time": "2024-11-02T00:33:09.767Z"
   },
   {
    "duration": 141,
    "start_time": "2024-11-02T00:33:09.779Z"
   },
   {
    "duration": 955,
    "start_time": "2024-11-02T00:33:09.926Z"
   },
   {
    "duration": 24,
    "start_time": "2024-11-02T00:33:10.883Z"
   },
   {
    "duration": 4,
    "start_time": "2024-11-02T00:33:10.908Z"
   },
   {
    "duration": 20,
    "start_time": "2024-11-02T00:33:10.925Z"
   },
   {
    "duration": 193,
    "start_time": "2024-11-02T00:33:10.948Z"
   },
   {
    "duration": 27,
    "start_time": "2024-11-02T00:33:11.144Z"
   },
   {
    "duration": 55,
    "start_time": "2024-11-02T00:33:11.174Z"
   },
   {
    "duration": 3872,
    "start_time": "2024-11-02T00:33:11.232Z"
   },
   {
    "duration": 130871,
    "start_time": "2024-11-02T00:33:15.106Z"
   },
   {
    "duration": 101311,
    "start_time": "2024-11-02T00:35:26.727Z"
   },
   {
    "duration": 519,
    "start_time": "2024-11-02T00:37:11.829Z"
   },
   {
    "duration": 3316,
    "start_time": "2024-11-02T00:37:12.350Z"
   },
   {
    "duration": 1022,
    "start_time": "2024-11-02T00:47:13.234Z"
   },
   {
    "duration": 23,
    "start_time": "2024-11-02T00:47:14.258Z"
   },
   {
    "duration": 3,
    "start_time": "2024-11-02T00:47:14.285Z"
   },
   {
    "duration": 10,
    "start_time": "2024-11-02T00:47:14.290Z"
   },
   {
    "duration": 27,
    "start_time": "2024-11-02T00:47:14.301Z"
   },
   {
    "duration": 9,
    "start_time": "2024-11-02T00:47:14.330Z"
   },
   {
    "duration": 185,
    "start_time": "2024-11-02T00:47:14.340Z"
   },
   {
    "duration": 9,
    "start_time": "2024-11-02T00:47:14.527Z"
   },
   {
    "duration": 145,
    "start_time": "2024-11-02T00:47:14.540Z"
   },
   {
    "duration": 954,
    "start_time": "2024-11-02T00:47:14.686Z"
   },
   {
    "duration": 21,
    "start_time": "2024-11-02T00:47:15.642Z"
   },
   {
    "duration": 3,
    "start_time": "2024-11-02T00:47:15.665Z"
   },
   {
    "duration": 56,
    "start_time": "2024-11-02T00:47:15.669Z"
   },
   {
    "duration": 153,
    "start_time": "2024-11-02T00:47:15.727Z"
   },
   {
    "duration": 3819,
    "start_time": "2024-11-02T00:47:15.882Z"
   },
   {
    "duration": 440,
    "start_time": "2024-11-02T00:47:19.703Z"
   },
   {
    "duration": 3315,
    "start_time": "2024-11-02T00:47:20.147Z"
   },
   {
    "duration": 1104,
    "start_time": "2024-11-02T01:04:27.272Z"
   },
   {
    "duration": 24,
    "start_time": "2024-11-02T01:04:28.378Z"
   },
   {
    "duration": 3,
    "start_time": "2024-11-02T01:04:28.404Z"
   },
   {
    "duration": 9,
    "start_time": "2024-11-02T01:04:28.423Z"
   },
   {
    "duration": 8,
    "start_time": "2024-11-02T01:04:28.434Z"
   },
   {
    "duration": 11,
    "start_time": "2024-11-02T01:04:28.444Z"
   },
   {
    "duration": 195,
    "start_time": "2024-11-02T01:04:28.457Z"
   },
   {
    "duration": 11,
    "start_time": "2024-11-02T01:04:28.654Z"
   },
   {
    "duration": 148,
    "start_time": "2024-11-02T01:04:28.667Z"
   },
   {
    "duration": 950,
    "start_time": "2024-11-02T01:04:28.824Z"
   },
   {
    "duration": 23,
    "start_time": "2024-11-02T01:04:29.776Z"
   },
   {
    "duration": 3,
    "start_time": "2024-11-02T01:04:29.801Z"
   },
   {
    "duration": 19,
    "start_time": "2024-11-02T01:04:29.824Z"
   },
   {
    "duration": 197,
    "start_time": "2024-11-02T01:04:29.845Z"
   },
   {
    "duration": 3838,
    "start_time": "2024-11-02T01:04:30.044Z"
   },
   {
    "duration": 1148,
    "start_time": "2024-11-02T01:04:33.884Z"
   },
   {
    "duration": 3289,
    "start_time": "2024-11-02T01:04:35.035Z"
   },
   {
    "duration": 1000,
    "start_time": "2024-11-02T01:15:42.466Z"
   },
   {
    "duration": 25,
    "start_time": "2024-11-02T01:15:43.469Z"
   },
   {
    "duration": 3,
    "start_time": "2024-11-02T01:15:43.495Z"
   },
   {
    "duration": 8,
    "start_time": "2024-11-02T01:15:43.501Z"
   },
   {
    "duration": 18,
    "start_time": "2024-11-02T01:15:43.511Z"
   },
   {
    "duration": 9,
    "start_time": "2024-11-02T01:15:43.530Z"
   },
   {
    "duration": 189,
    "start_time": "2024-11-02T01:15:43.540Z"
   },
   {
    "duration": 10,
    "start_time": "2024-11-02T01:15:43.730Z"
   },
   {
    "duration": 151,
    "start_time": "2024-11-02T01:15:43.742Z"
   },
   {
    "duration": 965,
    "start_time": "2024-11-02T01:15:43.895Z"
   },
   {
    "duration": 21,
    "start_time": "2024-11-02T01:15:44.862Z"
   },
   {
    "duration": 4,
    "start_time": "2024-11-02T01:15:44.885Z"
   },
   {
    "duration": 46,
    "start_time": "2024-11-02T01:15:44.891Z"
   },
   {
    "duration": 143,
    "start_time": "2024-11-02T01:15:44.938Z"
   },
   {
    "duration": 3828,
    "start_time": "2024-11-02T01:15:45.083Z"
   },
   {
    "duration": 428,
    "start_time": "2024-11-02T01:15:48.913Z"
   },
   {
    "duration": 3309,
    "start_time": "2024-11-02T01:15:49.343Z"
   },
   {
    "duration": 3799,
    "start_time": "2024-11-02T01:17:43.073Z"
   },
   {
    "duration": 1025,
    "start_time": "2024-11-02T01:17:54.145Z"
   },
   {
    "duration": 24,
    "start_time": "2024-11-02T01:17:55.172Z"
   },
   {
    "duration": 2,
    "start_time": "2024-11-02T01:17:55.198Z"
   },
   {
    "duration": 8,
    "start_time": "2024-11-02T01:17:55.202Z"
   },
   {
    "duration": 20,
    "start_time": "2024-11-02T01:17:55.211Z"
   },
   {
    "duration": 10,
    "start_time": "2024-11-02T01:17:55.232Z"
   },
   {
    "duration": 201,
    "start_time": "2024-11-02T01:17:55.243Z"
   },
   {
    "duration": 10,
    "start_time": "2024-11-02T01:17:55.446Z"
   },
   {
    "duration": 148,
    "start_time": "2024-11-02T01:17:55.457Z"
   },
   {
    "duration": 937,
    "start_time": "2024-11-02T01:17:55.608Z"
   },
   {
    "duration": 25,
    "start_time": "2024-11-02T01:17:56.547Z"
   },
   {
    "duration": 3,
    "start_time": "2024-11-02T01:17:56.573Z"
   },
   {
    "duration": 48,
    "start_time": "2024-11-02T01:17:56.578Z"
   },
   {
    "duration": 154,
    "start_time": "2024-11-02T01:17:56.628Z"
   },
   {
    "duration": 3820,
    "start_time": "2024-11-02T01:17:56.784Z"
   },
   {
    "duration": 433,
    "start_time": "2024-11-02T01:18:00.605Z"
   },
   {
    "duration": 3309,
    "start_time": "2024-11-02T01:18:01.042Z"
   },
   {
    "duration": 1062,
    "start_time": "2024-11-02T01:19:21.861Z"
   },
   {
    "duration": 23,
    "start_time": "2024-11-02T01:19:22.925Z"
   },
   {
    "duration": 3,
    "start_time": "2024-11-02T01:19:22.950Z"
   },
   {
    "duration": 8,
    "start_time": "2024-11-02T01:19:22.954Z"
   },
   {
    "duration": 6,
    "start_time": "2024-11-02T01:19:22.965Z"
   },
   {
    "duration": 9,
    "start_time": "2024-11-02T01:19:22.973Z"
   },
   {
    "duration": 204,
    "start_time": "2024-11-02T01:19:22.984Z"
   },
   {
    "duration": 10,
    "start_time": "2024-11-02T01:19:23.190Z"
   },
   {
    "duration": 141,
    "start_time": "2024-11-02T01:19:23.202Z"
   },
   {
    "duration": 906,
    "start_time": "2024-11-02T01:19:23.345Z"
   },
   {
    "duration": 23,
    "start_time": "2024-11-02T01:19:24.252Z"
   },
   {
    "duration": 3,
    "start_time": "2024-11-02T01:19:24.276Z"
   },
   {
    "duration": 50,
    "start_time": "2024-11-02T01:19:24.281Z"
   },
   {
    "duration": 144,
    "start_time": "2024-11-02T01:19:24.335Z"
   },
   {
    "duration": 3823,
    "start_time": "2024-11-02T01:19:24.481Z"
   },
   {
    "duration": 433,
    "start_time": "2024-11-02T01:19:28.306Z"
   },
   {
    "duration": 3318,
    "start_time": "2024-11-02T01:19:28.744Z"
   },
   {
    "duration": 12,
    "start_time": "2024-11-02T01:19:39.820Z"
   },
   {
    "duration": 1042,
    "start_time": "2024-11-02T01:19:46.076Z"
   },
   {
    "duration": 21,
    "start_time": "2024-11-02T01:19:47.120Z"
   },
   {
    "duration": 3,
    "start_time": "2024-11-02T01:19:47.143Z"
   },
   {
    "duration": 8,
    "start_time": "2024-11-02T01:19:47.147Z"
   },
   {
    "duration": 7,
    "start_time": "2024-11-02T01:19:47.158Z"
   },
   {
    "duration": 11,
    "start_time": "2024-11-02T01:19:47.166Z"
   },
   {
    "duration": 199,
    "start_time": "2024-11-02T01:19:47.178Z"
   },
   {
    "duration": 9,
    "start_time": "2024-11-02T01:19:47.379Z"
   },
   {
    "duration": 144,
    "start_time": "2024-11-02T01:19:47.390Z"
   },
   {
    "duration": 912,
    "start_time": "2024-11-02T01:19:47.537Z"
   },
   {
    "duration": 22,
    "start_time": "2024-11-02T01:19:48.452Z"
   },
   {
    "duration": 3,
    "start_time": "2024-11-02T01:19:48.475Z"
   },
   {
    "duration": 53,
    "start_time": "2024-11-02T01:19:48.480Z"
   },
   {
    "duration": 145,
    "start_time": "2024-11-02T01:19:48.536Z"
   },
   {
    "duration": 3835,
    "start_time": "2024-11-02T01:19:48.684Z"
   },
   {
    "duration": 500,
    "start_time": "2024-11-02T01:19:52.524Z"
   },
   {
    "duration": 3271,
    "start_time": "2024-11-02T01:19:53.026Z"
   },
   {
    "duration": 993,
    "start_time": "2024-11-02T01:29:56.184Z"
   },
   {
    "duration": 23,
    "start_time": "2024-11-02T01:29:57.179Z"
   },
   {
    "duration": 3,
    "start_time": "2024-11-02T01:29:57.204Z"
   },
   {
    "duration": 19,
    "start_time": "2024-11-02T01:29:57.210Z"
   },
   {
    "duration": 8,
    "start_time": "2024-11-02T01:29:57.230Z"
   },
   {
    "duration": 8,
    "start_time": "2024-11-02T01:29:57.240Z"
   },
   {
    "duration": 193,
    "start_time": "2024-11-02T01:29:57.251Z"
   },
   {
    "duration": 11,
    "start_time": "2024-11-02T01:29:57.446Z"
   },
   {
    "duration": 148,
    "start_time": "2024-11-02T01:29:57.460Z"
   },
   {
    "duration": 970,
    "start_time": "2024-11-02T01:29:57.611Z"
   },
   {
    "duration": 23,
    "start_time": "2024-11-02T01:29:58.584Z"
   },
   {
    "duration": 4,
    "start_time": "2024-11-02T01:29:58.608Z"
   },
   {
    "duration": 13,
    "start_time": "2024-11-02T01:29:58.624Z"
   },
   {
    "duration": 145,
    "start_time": "2024-11-02T01:29:58.639Z"
   },
   {
    "duration": 3910,
    "start_time": "2024-11-02T01:29:58.824Z"
   },
   {
    "duration": 600,
    "start_time": "2024-11-02T01:30:02.737Z"
   },
   {
    "duration": 3302,
    "start_time": "2024-11-02T01:30:03.339Z"
   }
  ],
  "kernelspec": {
   "display_name": "Python 3 (ipykernel)",
   "language": "python",
   "name": "python3"
  },
  "language_info": {
   "codemirror_mode": {
    "name": "ipython",
    "version": 3
   },
   "file_extension": ".py",
   "mimetype": "text/x-python",
   "name": "python",
   "nbconvert_exporter": "python",
   "pygments_lexer": "ipython3",
   "version": "3.9.19"
  },
  "toc": {
   "base_numbering": 1,
   "nav_menu": {},
   "number_sections": true,
   "sideBar": true,
   "skip_h1_title": true,
   "title_cell": "Table of Contents",
   "title_sidebar": "Contents",
   "toc_cell": false,
   "toc_position": {},
   "toc_section_display": true,
   "toc_window_display": false
  }
 },
 "nbformat": 4,
 "nbformat_minor": 2
}
